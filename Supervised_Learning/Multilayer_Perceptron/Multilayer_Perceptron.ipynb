{
 "cells": [
  {
   "cell_type": "markdown",
   "metadata": {},
   "source": [
    "# Multilayer Perceptron\n",
    "\n",
    "In this notebook, we briefly introduce the multilayer perceptron model, then apply it on the CVDs dataset.\n",
    "\n",
    "---\n",
    "\n",
    "## Introduce \n",
    "\n",
    "A [multilayer perceptron](https://en.wikipedia.org/wiki/Multilayer_perceptron) (MLP) is a class of feedforward artificial neural network (ANN). An MLP consists of at least three layers of nodes: an input layer, a hidden layer and an output layer. Except for the input nodes, each node is a neuron that uses a nonlinear activation function. MLP utilizes a supervised learning technique called backpropagation for training. Its multiple layers and non-linear activation distinguish MLP from a linear perceptron. It can distinguish data that is not linearly separable.\n",
    "\n",
    "---\n",
    "\n",
    "## Algorithm\n",
    "\n",
    "A multilayer neural network is multilayer of perceptrons. It consists an input layer, several hidden layers, output layer, fully connected weights and non-linear activation function. The architecture of MLP is shown in the following image.\n",
    "\n",
    "<img src=\"multilayerPerceptron.jpg\" alt=\"Drawing\" style=\"width: 450px;\"/>\n",
    "\n",
    "For our activation function, we will use the sigmoid function:\n",
    "\n",
    "* Sigmoid Function\n",
    "$$\n",
    "\\sigma(z) = \\frac{1}{1+e^{-z}}.\n",
    "$$\n",
    "\n",
    "For our cost function, we will use the Mean Sqaure Error cost:\n",
    "$$\n",
    "C(W, b) = \\frac{1}{2}\\sum_{k=1}^{2}(\\hat{y}^{(i)}_k - y^{(i)}_k)^2.\n",
    "$$\n",
    "\n",
    "### Feedforward Phase\n",
    "\n",
    "For $\\ell = 1, \\dots, L$, each layer $\\ell$ in our network will have two phases, the preactivation phase $$\\mathbf{z}^{\\ell} = W^{\\ell}\\mathbf{a}^{\\ell-1} + \\mathbf{b}^{\\ell},$$ and postactivation phase $$\\mathbf{a}^{\\ell} = \\sigma(\\mathbf{z}^{\\ell}).$$ The preactivation phase consists of a weighted linear combination of postactivation values in the previous layer. The postactivation values consists of passing the preactivation value through an activation function elementwise. Note $\\mathbf{a}^0 = \\mathbf{x}^{(i)}$, where $\\mathbf{x}^{(i)}$ is the current input data into our network. \n",
    "\n",
    "### Backpropogation Phase with Stochastic Gradient Descent \n",
    "The backpropogation phase with stochastic gradient descetn is shown as below:\n",
    "\n",
    "1. For each $i = 1, \\dots, N$.\n",
    "2. Feedforward $\\mathbf{x}^{(i)}$ into the network. \n",
    "3. Compute $\\delta^{L} = \\nabla_aC\\otimes \\sigma'(\\mathbf{z}^{L})$.\n",
    "4. For $\\ell = L-1, \\dots, 1$, compute $\\delta^{\\ell} = \\big ( (\\mathbf{w}^{\\ell + 1})^{T} \\delta^{\\ell + 1} \\Big )\\otimes \\sigma'(\\mathbf{z}^{\\ell})$.\n",
    "5. For $\\ell = L, L-1, \\dots, 1$, \n",
    "\n",
    "$$\n",
    "w^{\\ell} \\leftarrow w^{\\ell} - \\alpha \\delta^{\\ell}(\\mathbf{a}^{\\ell-1})^{T}\n",
    "$$\n",
    "\n",
    "$$\n",
    "b^{\\ell} \\leftarrow b^{\\ell} - \\alpha \\delta^{\\ell}\n",
    "$$\n",
    "\n",
    "---\n",
    "\n",
    "## Coding"
   ]
  },
  {
   "cell_type": "code",
   "execution_count": 2,
   "metadata": {},
   "outputs": [],
   "source": [
    "# Import the libraries\n",
    "import matplotlib.pyplot as plt\n",
    "import numpy as np\n",
    "import pandas as pd\n",
    "import seaborn as sns\n",
    "from sklearn import preprocessing\n",
    "from sklearn.model_selection import train_test_split\n",
    "from sklearn.metrics import confusion_matrix\n",
    "from sklearn.metrics import classification_report\n",
    "\n",
    "# Set theme for plotting\n",
    "sns.set_theme()"
   ]
  },
  {
   "cell_type": "markdown",
   "metadata": {},
   "source": [
    "First, we define our sigmoid activation function, its derivative, and the mean squared error for a single instance of training data."
   ]
  },
  {
   "cell_type": "code",
   "execution_count": 3,
   "metadata": {},
   "outputs": [],
   "source": [
    "def sigmoid(z):\n",
    "    return 1.0/(1.0+np.exp(-z))\n",
    "\n",
    "def d_sigmoid(z):\n",
    "    return sigmoid(z)*(1.0 - sigmoid(z))\n",
    "\n",
    "def mse(a, y):\n",
    "    return .5*sum((a[i] - y[i])**2 for i in range(len(y)))[0]"
   ]
  },
  {
   "cell_type": "markdown",
   "metadata": {},
   "source": [
    "Next we write a custom function to initialize the weight matrices and bias column vectors for a dense neural network."
   ]
  },
  {
   "cell_type": "code",
   "execution_count": 4,
   "metadata": {},
   "outputs": [],
   "source": [
    "def initialize_weights(layers):\n",
    "    # The following Python lists will contain numpy matrices\n",
    "    # connected the layers in the neural network \n",
    "    W = [[0.0]]\n",
    "    B = [[0.0]]\n",
    "    for i in range(1, len(layers)):\n",
    "        # The scalling factor is something I found in a research paper :)\n",
    "        w_temp = np.random.randn(layers[i], layers[i-1])*np.sqrt(2/layers[i-1])\n",
    "        b_temp = np.random.randn(layers[i], 1)*np.sqrt(2/layers[i-1])\n",
    "    \n",
    "        W.append(w_temp)\n",
    "        B.append(b_temp)\n",
    "    return W, B"
   ]
  },
  {
   "cell_type": "markdown",
   "metadata": {},
   "source": [
    "Then we define the feedforward phase funciton and the overall MSE cost funciton."
   ]
  },
  {
   "cell_type": "code",
   "execution_count": 5,
   "metadata": {},
   "outputs": [],
   "source": [
    "def forward_pass(W, B, xi, predict_vector = False):\n",
    "    Z = [[0.0]]\n",
    "    A = [xi]\n",
    "    L = len(W) - 1\n",
    "    for i in range(1, L + 1):\n",
    "        z = W[i] @ A[i-1] + B[i]\n",
    "        Z.append(z)\n",
    "        \n",
    "        a = sigmoid(z)\n",
    "        A.append(a)\n",
    "        \n",
    "    if predict_vector == False:\n",
    "        return Z, A\n",
    "    else:\n",
    "        return A[-1]\n",
    "\n",
    "def MSE(W, B, X, y):\n",
    "    cost = 0.0\n",
    "    m = 0\n",
    "    for xi, yi in zip(X, y):\n",
    "        xi = xi.reshape(-1,1)\n",
    "        a = forward_pass(W, B, xi, predict_vector = True)\n",
    "        cost += mse(a, yi)\n",
    "        m+=1\n",
    "    return cost/m"
   ]
  },
  {
   "cell_type": "markdown",
   "metadata": {},
   "source": [
    "We are now ready to define a custom Python ```DenseNetwork``` class."
   ]
  },
  {
   "cell_type": "code",
   "execution_count": 6,
   "metadata": {},
   "outputs": [],
   "source": [
    "class DenseNetwork(object):\n",
    "    def __init__(self, layers):\n",
    "        self.layers = layers\n",
    "        self.W, self.B = initialize_weights(layers = self.layers)\n",
    "\n",
    "    def train(self, X_train, y_train, alpha = 0.046, epochs = 10):\n",
    "        # Print the initial mean squared error\n",
    "        self.errors_ = [MSE(self.W, self.B, X_train, y_train)]\n",
    "        print(f\"Starting Cost = {self.errors_[0]}\")\n",
    "\n",
    "        # Find your sample size\n",
    "        sample_size = len(X_train)\n",
    "\n",
    "        # Find the number of non-input layers.\n",
    "        L = len(self.layers) - 1\n",
    "\n",
    "        # For each epoch perform stochastic gradient descent. \n",
    "        for k in range(epochs):\n",
    "            # Loop over each (xi, yi) training pair of data.\n",
    "            for xi, yi in zip(X_train, y_train):\n",
    "                # Use the forward pass function defined before\n",
    "                # and find the preactivation and postactivation values.\n",
    "                xi = xi.reshape(-1,1)\n",
    "                Z, A = forward_pass(self.W, self.B, xi)\n",
    "\n",
    "                # Store the errors in a dictionary for clear interpretation\n",
    "                # of computation of these values.\n",
    "                deltas = dict()\n",
    "\n",
    "                # Compute the output error \n",
    "                output_error = (A[L] - yi)*d_sigmoid(Z[L])\n",
    "                deltas[L] = output_error\n",
    "\n",
    "                # Loop from L-1 to 1. Recall the right entry of the range function \n",
    "                # is non-inclusive. \n",
    "                for i in range(L-1, 0, -1):\n",
    "                    # Compute the node errors at each hidden layer\n",
    "                    deltas[i] = (self.W[i+1].T @ deltas[i+1])*d_sigmoid(Z[i])\n",
    "\n",
    "                # Loop over each hidden layer and the output layer to perform gradient \n",
    "                # descent. \n",
    "                for i in range(1, L+1):\n",
    "                    self.W[i] -= alpha*deltas[i] @ A[i-1].T\n",
    "                    self.B[i] -= alpha*deltas[i]\n",
    "\n",
    "            # Show the user the cost over all training examples\n",
    "            self.errors_.append(MSE(self.W, self.B, X_train, y_train))   \n",
    "            print(f\"{k + 1}-Epoch Cost = {self.errors_[-1]}\")\n",
    "    \n",
    "\n",
    "    def predict(self, xi):\n",
    "        depth = len(self.layers)\n",
    "        _, A = forward_pass(self.W, self.B, xi)\n",
    "        return np.argmax(A[-1])"
   ]
  },
  {
   "cell_type": "markdown",
   "metadata": {},
   "source": [
    "We import the data set and preprocess it."
   ]
  },
  {
   "cell_type": "code",
   "execution_count": 7,
   "metadata": {},
   "outputs": [
    {
     "data": {
      "text/html": [
       "<div>\n",
       "<style scoped>\n",
       "    .dataframe tbody tr th:only-of-type {\n",
       "        vertical-align: middle;\n",
       "    }\n",
       "\n",
       "    .dataframe tbody tr th {\n",
       "        vertical-align: top;\n",
       "    }\n",
       "\n",
       "    .dataframe thead th {\n",
       "        text-align: right;\n",
       "    }\n",
       "</style>\n",
       "<table border=\"1\" class=\"dataframe\">\n",
       "  <thead>\n",
       "    <tr style=\"text-align: right;\">\n",
       "      <th></th>\n",
       "      <th>Age</th>\n",
       "      <th>Sex</th>\n",
       "      <th>RestingBP</th>\n",
       "      <th>Cholesterol</th>\n",
       "      <th>FastingBS</th>\n",
       "      <th>MaxHR</th>\n",
       "      <th>ExerciseAngina</th>\n",
       "      <th>Oldpeak</th>\n",
       "      <th>HeartDisease</th>\n",
       "      <th>ATA</th>\n",
       "      <th>NAP</th>\n",
       "      <th>TA</th>\n",
       "      <th>Normal</th>\n",
       "      <th>ST</th>\n",
       "      <th>Flat</th>\n",
       "      <th>Up</th>\n",
       "    </tr>\n",
       "  </thead>\n",
       "  <tbody>\n",
       "    <tr>\n",
       "      <th>0</th>\n",
       "      <td>-1.433140</td>\n",
       "      <td>1</td>\n",
       "      <td>0.410909</td>\n",
       "      <td>0.825070</td>\n",
       "      <td>0</td>\n",
       "      <td>1.382928</td>\n",
       "      <td>0</td>\n",
       "      <td>0.0</td>\n",
       "      <td>0</td>\n",
       "      <td>1</td>\n",
       "      <td>0</td>\n",
       "      <td>0</td>\n",
       "      <td>1</td>\n",
       "      <td>0</td>\n",
       "      <td>0</td>\n",
       "      <td>1</td>\n",
       "    </tr>\n",
       "    <tr>\n",
       "      <th>1</th>\n",
       "      <td>-0.478484</td>\n",
       "      <td>0</td>\n",
       "      <td>1.491752</td>\n",
       "      <td>-0.171961</td>\n",
       "      <td>0</td>\n",
       "      <td>0.754157</td>\n",
       "      <td>0</td>\n",
       "      <td>1.0</td>\n",
       "      <td>1</td>\n",
       "      <td>0</td>\n",
       "      <td>1</td>\n",
       "      <td>0</td>\n",
       "      <td>1</td>\n",
       "      <td>0</td>\n",
       "      <td>1</td>\n",
       "      <td>0</td>\n",
       "    </tr>\n",
       "    <tr>\n",
       "      <th>2</th>\n",
       "      <td>-1.751359</td>\n",
       "      <td>1</td>\n",
       "      <td>-0.129513</td>\n",
       "      <td>0.770188</td>\n",
       "      <td>0</td>\n",
       "      <td>-1.525138</td>\n",
       "      <td>0</td>\n",
       "      <td>0.0</td>\n",
       "      <td>0</td>\n",
       "      <td>1</td>\n",
       "      <td>0</td>\n",
       "      <td>0</td>\n",
       "      <td>0</td>\n",
       "      <td>1</td>\n",
       "      <td>0</td>\n",
       "      <td>1</td>\n",
       "    </tr>\n",
       "    <tr>\n",
       "      <th>3</th>\n",
       "      <td>-0.584556</td>\n",
       "      <td>0</td>\n",
       "      <td>0.302825</td>\n",
       "      <td>0.139040</td>\n",
       "      <td>0</td>\n",
       "      <td>-1.132156</td>\n",
       "      <td>1</td>\n",
       "      <td>1.5</td>\n",
       "      <td>1</td>\n",
       "      <td>0</td>\n",
       "      <td>0</td>\n",
       "      <td>0</td>\n",
       "      <td>1</td>\n",
       "      <td>0</td>\n",
       "      <td>1</td>\n",
       "      <td>0</td>\n",
       "    </tr>\n",
       "    <tr>\n",
       "      <th>4</th>\n",
       "      <td>0.051881</td>\n",
       "      <td>1</td>\n",
       "      <td>0.951331</td>\n",
       "      <td>-0.034755</td>\n",
       "      <td>0</td>\n",
       "      <td>-0.581981</td>\n",
       "      <td>0</td>\n",
       "      <td>0.0</td>\n",
       "      <td>0</td>\n",
       "      <td>0</td>\n",
       "      <td>1</td>\n",
       "      <td>0</td>\n",
       "      <td>1</td>\n",
       "      <td>0</td>\n",
       "      <td>0</td>\n",
       "      <td>1</td>\n",
       "    </tr>\n",
       "  </tbody>\n",
       "</table>\n",
       "</div>"
      ],
      "text/plain": [
       "        Age  Sex  RestingBP  Cholesterol  FastingBS     MaxHR  ExerciseAngina  \\\n",
       "0 -1.433140    1   0.410909     0.825070          0  1.382928               0   \n",
       "1 -0.478484    0   1.491752    -0.171961          0  0.754157               0   \n",
       "2 -1.751359    1  -0.129513     0.770188          0 -1.525138               0   \n",
       "3 -0.584556    0   0.302825     0.139040          0 -1.132156               1   \n",
       "4  0.051881    1   0.951331    -0.034755          0 -0.581981               0   \n",
       "\n",
       "   Oldpeak  HeartDisease  ATA  NAP  TA  Normal  ST  Flat  Up  \n",
       "0      0.0             0    1    0   0       1   0     0   1  \n",
       "1      1.0             1    0    1   0       1   0     1   0  \n",
       "2      0.0             0    1    0   0       0   1     0   1  \n",
       "3      1.5             1    0    0   0       1   0     1   0  \n",
       "4      0.0             0    0    1   0       1   0     0   1  "
      ]
     },
     "execution_count": 7,
     "metadata": {},
     "output_type": "execute_result"
    }
   ],
   "source": [
    "# Import the data\n",
    "df = pd.read_csv(\"https://raw.githubusercontent.com/YulinLi98/Sample_Repo/main/heart.csv\")\n",
    "\n",
    "# Data Preprocessing by onehot encoding\n",
    "df.Sex = df.Sex.replace({'M':1, 'F':0})\n",
    "df.ExerciseAngina = df.ExerciseAngina.replace({'Y':1, 'N':0})\n",
    "\n",
    "ChestPainType = pd.get_dummies(df.ChestPainType,drop_first=True)\n",
    "RestingECG = pd.get_dummies(df.RestingECG,drop_first=True)\n",
    "ST_Slope = pd.get_dummies(df.ST_Slope,drop_first=True)\n",
    "df = pd.concat([df,ChestPainType, RestingECG, ST_Slope],axis=1)\n",
    "df.drop(['ChestPainType', 'RestingECG', 'ST_Slope'],axis=1,inplace=True)\n",
    "\n",
    "# Standardize the data\n",
    "df.Age = preprocessing.scale(df.Age)\n",
    "df.RestingBP = preprocessing.scale(df.RestingBP)\n",
    "df.MaxHR = preprocessing.scale(df.MaxHR)\n",
    "df.Cholesterol = preprocessing.scale(df.Cholesterol)\n",
    "df.head()"
   ]
  },
  {
   "cell_type": "markdown",
   "metadata": {},
   "source": [
    "We create the training set and testing set."
   ]
  },
  {
   "cell_type": "code",
   "execution_count": 8,
   "metadata": {},
   "outputs": [],
   "source": [
    "X = df.drop('HeartDisease',axis=1).to_numpy()\n",
    "y = df.HeartDisease\n",
    "\n",
    "# Create a training set and a testing set\n",
    "X_train, X_test, y_train, y_test = train_test_split(X, y, test_size=0.30, random_state=42)"
   ]
  },
  {
   "cell_type": "markdown",
   "metadata": {},
   "source": [
    "Then we onehot encode the response variable."
   ]
  },
  {
   "cell_type": "code",
   "execution_count": 9,
   "metadata": {},
   "outputs": [],
   "source": [
    "# One hot encode the training labels\n",
    "onehot_y_train = []\n",
    "\n",
    "for y in zip(y_train):\n",
    "    temp_vec = np.zeros((2, 1))\n",
    "    temp_vec[y][0] = 1.0\n",
    "    onehot_y_train.append(temp_vec)"
   ]
  },
  {
   "cell_type": "markdown",
   "metadata": {},
   "source": [
    "We initialize a ```DenseNetwork``` Class with layers = [15,4,4,2]. Then we examine our MLP class by making a random prediction before training."
   ]
  },
  {
   "cell_type": "code",
   "execution_count": 10,
   "metadata": {},
   "outputs": [
    {
     "name": "stdout",
     "output_type": "stream",
     "text": [
      "MSE(net.W, net.B, X_train, onehot_y_train) = 0.24396244621056098 \n",
      "\n",
      "predicted label is: 1\n",
      "actual label is: 0\n"
     ]
    }
   ],
   "source": [
    "# Initialize a network with 15 input nodes, two hidden layers with 4 nodes each \n",
    "# and a output layer with 2 nodes. \n",
    "np.random.seed(1)\n",
    "net = DenseNetwork(layers = [15,4,4,2])\n",
    "\n",
    "# Check the mean squared error before training \n",
    "print(f\"MSE(net.W, net.B, X_train, onehot_y_train) = {MSE(net.W, net.B, X_train, onehot_y_train)} \\n\")\n",
    "\n",
    "# Make a random prediction before training\n",
    "np.random.seed(2)\n",
    "i = np.random.randint(0, len(X_test))\n",
    "prediction = net.predict(X_test[i].reshape(-1,1))\n",
    "print(f\"predicted label is: {prediction}\")\n",
    "print(f\"actual label is: {np.argmax(y_test[i])}\")"
   ]
  },
  {
   "cell_type": "markdown",
   "metadata": {},
   "source": [
    "We train the MLP on the training set with epochs = 10."
   ]
  },
  {
   "cell_type": "code",
   "execution_count": 11,
   "metadata": {},
   "outputs": [
    {
     "name": "stdout",
     "output_type": "stream",
     "text": [
      "Starting Cost = 0.24396244621056098\n",
      "1-Epoch Cost = 0.23380841838583244\n",
      "2-Epoch Cost = 0.21647577939685753\n",
      "3-Epoch Cost = 0.19118891667104237\n",
      "4-Epoch Cost = 0.16598326079669304\n",
      "5-Epoch Cost = 0.14729894401810853\n",
      "6-Epoch Cost = 0.13486646188711676\n",
      "7-Epoch Cost = 0.1265387920487215\n",
      "8-Epoch Cost = 0.12074310452941296\n",
      "9-Epoch Cost = 0.11656461381501672\n",
      "10-Epoch Cost = 0.1134847044891879\n"
     ]
    }
   ],
   "source": [
    "# Train your network with stochastic gradient descent!\n",
    "net.train(X_train, onehot_y_train, alpha = 0.046, epochs= 10)"
   ]
  },
  {
   "cell_type": "markdown",
   "metadata": {},
   "source": [
    "Now let's check the prediction result after training."
   ]
  },
  {
   "cell_type": "code",
   "execution_count": 13,
   "metadata": {},
   "outputs": [
    {
     "name": "stdout",
     "output_type": "stream",
     "text": [
      "predicted label is: 0\n",
      "actual label is: 0\n"
     ]
    }
   ],
   "source": [
    "prediction = net.predict(X_test[i].reshape(-1,1))\n",
    "print(f\"predicted label is: {prediction}\")\n",
    "print(f\"actual label is: {np.argmax(y_test[i])}\")"
   ]
  },
  {
   "cell_type": "markdown",
   "metadata": {},
   "source": [
    "We will visualize the MSE over each epoch."
   ]
  },
  {
   "cell_type": "code",
   "execution_count": 320,
   "metadata": {},
   "outputs": [
    {
     "data": {
      "image/png": "[encoded data removed]",
      "text/plain": [
       "<Figure size 720x576 with 1 Axes>"
      ]
     },
     "metadata": {},
     "output_type": "display_data"
    }
   ],
   "source": [
    "# Visualize the mean squared error over the training process \n",
    "plt.figure(figsize = (10, 8))\n",
    "epochs = range(len(net.errors_))\n",
    "plt.plot(epochs, net.errors_, marker = \"o\")\n",
    "plt.xticks(epochs)\n",
    "plt.xlabel(\"epochs\")\n",
    "plt.ylabel(\"Mean Squared Error\")\n",
    "plt.title(\"Network MSE During Training\", fontsize = 16)\n",
    "plt.show()"
   ]
  },
  {
   "cell_type": "markdown",
   "metadata": {},
   "source": [
    "The MSE decreases over each epoch. Now we will make prediction on the testing set and show the confusion matrix and classificaiton report."
   ]
  },
  {
   "cell_type": "code",
   "execution_count": 14,
   "metadata": {},
   "outputs": [
    {
     "name": "stdout",
     "output_type": "stream",
     "text": [
      "cf_matrix = [[ 97  15]\n",
      " [ 24 140]] \n",
      "\n"
     ]
    },
    {
     "data": {
      "image/png": "[encoded data removed]",
      "text/plain": [
       "<Figure size 720x576 with 1 Axes>"
      ]
     },
     "metadata": {},
     "output_type": "display_data"
    }
   ],
   "source": [
    "# Make predictions on testing data\n",
    "y_pred = []\n",
    "for xi in X_test:\n",
    "    y_pred.append(net.predict(xi.reshape(-1,1)))\n",
    "\n",
    "# Calculate the confusion matrix\n",
    "cf_matrix = confusion_matrix(y_test, y_pred)\n",
    "\n",
    "# Print the confusion matrix \n",
    "print(f\"cf_matrix = {cf_matrix} \\n\")\n",
    "\n",
    "# View the confusion matrix using the seaborn package\n",
    "plt.figure(figsize = (10, 8))\n",
    "ax = sns.heatmap(cf_matrix, annot=True, cmap='Blues', cbar=False)\n",
    "\n",
    "ax.set_title('Seaborn Confusion Matrix with labels\\n\\n');\n",
    "ax.set_xlabel('\\nPredicted Values')\n",
    "ax.set_ylabel('Actual Values ');\n",
    "\n",
    "## Ticket labels - List must be in alphabetical order\n",
    "ax.xaxis.set_ticklabels(['False','True'])\n",
    "ax.yaxis.set_ticklabels(['False','True'])\n",
    "plt.show()"
   ]
  },
  {
   "cell_type": "code",
   "execution_count": 15,
   "metadata": {},
   "outputs": [
    {
     "name": "stdout",
     "output_type": "stream",
     "text": [
      "              precision    recall  f1-score   support\n",
      "\n",
      "           0       0.80      0.87      0.83       112\n",
      "           1       0.90      0.85      0.88       164\n",
      "\n",
      "    accuracy                           0.86       276\n",
      "   macro avg       0.85      0.86      0.86       276\n",
      "weighted avg       0.86      0.86      0.86       276\n",
      "\n"
     ]
    }
   ],
   "source": [
    "#Check performance of our model with classification report\n",
    "print(classification_report(y_test, y_pred))"
   ]
  },
  {
   "cell_type": "markdown",
   "metadata": {},
   "source": [
    "The MLP model's accuracy is 86%, which is greater than the single neuron perceptron model and less than the logistic regression model.\n",
    "\n",
    "---\n",
    "\n",
    "## Using TensorFlow package"
   ]
  },
  {
   "cell_type": "code",
   "execution_count": 16,
   "metadata": {},
   "outputs": [],
   "source": [
    "import tensorflow as tf   # import tensorflow package\n",
    "\n",
    "model = tf.keras.models.Sequential([\n",
    "  tf.keras.layers.Dense(7, activation='sigmoid'),\n",
    "  tf.keras.layers.Dense(2)\n",
    "])\n",
    "\n",
    "loss_fn = tf.keras.losses.SparseCategoricalCrossentropy(from_logits=True)\n",
    "\n",
    "model.compile(optimizer='adam',\n",
    "              loss=loss_fn,\n",
    "              metrics=['accuracy'])"
   ]
  },
  {
   "cell_type": "code",
   "execution_count": 17,
   "metadata": {},
   "outputs": [
    {
     "name": "stdout",
     "output_type": "stream",
     "text": [
      "Epoch 1/50\n",
      "21/21 [==============================] - 0s 0s/step - loss: 0.8192 - accuracy: 0.4642\n",
      "Epoch 2/50\n",
      "21/21 [==============================] - 0s 550us/step - loss: 0.7490 - accuracy: 0.4875\n",
      "Epoch 3/50\n",
      "21/21 [==============================] - 0s 550us/step - loss: 0.6969 - accuracy: 0.5343\n",
      "Epoch 4/50\n",
      "21/21 [==============================] - 0s 550us/step - loss: 0.6589 - accuracy: 0.6137\n",
      "Epoch 5/50\n",
      "21/21 [==============================] - 0s 550us/step - loss: 0.6309 - accuracy: 0.6947\n",
      "Epoch 6/50\n",
      "21/21 [==============================] - 0s 550us/step - loss: 0.6082 - accuracy: 0.7477\n",
      "Epoch 7/50\n",
      "21/21 [==============================] - 0s 600us/step - loss: 0.5895 - accuracy: 0.7804\n",
      "Epoch 8/50\n",
      "21/21 [==============================] - 0s 550us/step - loss: 0.5724 - accuracy: 0.7897\n",
      "Epoch 9/50\n",
      "21/21 [==============================] - 0s 600us/step - loss: 0.5563 - accuracy: 0.8006\n",
      "Epoch 10/50\n",
      "21/21 [==============================] - 0s 750us/step - loss: 0.5410 - accuracy: 0.8131\n",
      "Epoch 11/50\n",
      "21/21 [==============================] - 0s 650us/step - loss: 0.5274 - accuracy: 0.8146\n",
      "Epoch 12/50\n",
      "21/21 [==============================] - 0s 605us/step - loss: 0.5145 - accuracy: 0.8193\n",
      "Epoch 13/50\n",
      "21/21 [==============================] - 0s 550us/step - loss: 0.5031 - accuracy: 0.8178\n",
      "Epoch 14/50\n",
      "21/21 [==============================] - 0s 650us/step - loss: 0.4924 - accuracy: 0.8224\n",
      "Epoch 15/50\n",
      "21/21 [==============================] - 0s 550us/step - loss: 0.4828 - accuracy: 0.8255\n",
      "Epoch 16/50\n",
      "21/21 [==============================] - 0s 600us/step - loss: 0.4737 - accuracy: 0.8302\n",
      "Epoch 17/50\n",
      "21/21 [==============================] - 0s 550us/step - loss: 0.4665 - accuracy: 0.8333\n",
      "Epoch 18/50\n",
      "21/21 [==============================] - 0s 500us/step - loss: 0.4594 - accuracy: 0.8333\n",
      "Epoch 19/50\n",
      "21/21 [==============================] - 0s 600us/step - loss: 0.4523 - accuracy: 0.8411\n",
      "Epoch 20/50\n",
      "21/21 [==============================] - 0s 600us/step - loss: 0.4457 - accuracy: 0.8380\n",
      "Epoch 21/50\n",
      "21/21 [==============================] - 0s 650us/step - loss: 0.4392 - accuracy: 0.8411\n",
      "Epoch 22/50\n",
      "21/21 [==============================] - 0s 600us/step - loss: 0.4336 - accuracy: 0.8396\n",
      "Epoch 23/50\n",
      "21/21 [==============================] - 0s 550us/step - loss: 0.4282 - accuracy: 0.8396\n",
      "Epoch 24/50\n",
      "21/21 [==============================] - 0s 600us/step - loss: 0.4230 - accuracy: 0.8427\n",
      "Epoch 25/50\n",
      "21/21 [==============================] - 0s 550us/step - loss: 0.4187 - accuracy: 0.8427\n",
      "Epoch 26/50\n",
      "21/21 [==============================] - 0s 550us/step - loss: 0.4148 - accuracy: 0.8442\n",
      "Epoch 27/50\n",
      "21/21 [==============================] - 0s 600us/step - loss: 0.4109 - accuracy: 0.8427\n",
      "Epoch 28/50\n",
      "21/21 [==============================] - 0s 600us/step - loss: 0.4071 - accuracy: 0.8411\n",
      "Epoch 29/50\n",
      "21/21 [==============================] - 0s 550us/step - loss: 0.4036 - accuracy: 0.8442\n",
      "Epoch 30/50\n",
      "21/21 [==============================] - 0s 600us/step - loss: 0.4004 - accuracy: 0.8442\n",
      "Epoch 31/50\n",
      "21/21 [==============================] - 0s 550us/step - loss: 0.3975 - accuracy: 0.8427\n",
      "Epoch 32/50\n",
      "21/21 [==============================] - 0s 600us/step - loss: 0.3946 - accuracy: 0.8458\n",
      "Epoch 33/50\n",
      "21/21 [==============================] - 0s 550us/step - loss: 0.3920 - accuracy: 0.8474\n",
      "Epoch 34/50\n",
      "21/21 [==============================] - 0s 612us/step - loss: 0.3896 - accuracy: 0.8458\n",
      "Epoch 35/50\n",
      "21/21 [==============================] - 0s 525us/step - loss: 0.3871 - accuracy: 0.8489\n",
      "Epoch 36/50\n",
      "21/21 [==============================] - 0s 550us/step - loss: 0.3850 - accuracy: 0.8489\n",
      "Epoch 37/50\n",
      "21/21 [==============================] - 0s 500us/step - loss: 0.3830 - accuracy: 0.8489\n",
      "Epoch 38/50\n",
      "21/21 [==============================] - 0s 650us/step - loss: 0.3808 - accuracy: 0.8520\n",
      "Epoch 39/50\n",
      "21/21 [==============================] - 0s 600us/step - loss: 0.3792 - accuracy: 0.8520\n",
      "Epoch 40/50\n",
      "21/21 [==============================] - 0s 600us/step - loss: 0.3774 - accuracy: 0.8520\n",
      "Epoch 41/50\n",
      "21/21 [==============================] - 0s 550us/step - loss: 0.3757 - accuracy: 0.8520\n",
      "Epoch 42/50\n",
      "21/21 [==============================] - 0s 650us/step - loss: 0.3743 - accuracy: 0.8536\n",
      "Epoch 43/50\n",
      "21/21 [==============================] - 0s 600us/step - loss: 0.3728 - accuracy: 0.8520\n",
      "Epoch 44/50\n",
      "21/21 [==============================] - 0s 600us/step - loss: 0.3715 - accuracy: 0.8520\n",
      "Epoch 45/50\n",
      "21/21 [==============================] - 0s 600us/step - loss: 0.3704 - accuracy: 0.8520\n",
      "Epoch 46/50\n",
      "21/21 [==============================] - 0s 600us/step - loss: 0.3688 - accuracy: 0.8536\n",
      "Epoch 47/50\n",
      "21/21 [==============================] - 0s 650us/step - loss: 0.3679 - accuracy: 0.8520\n",
      "Epoch 48/50\n",
      "21/21 [==============================] - 0s 600us/step - loss: 0.3664 - accuracy: 0.8520\n",
      "Epoch 49/50\n",
      "21/21 [==============================] - 0s 550us/step - loss: 0.3652 - accuracy: 0.8520\n",
      "Epoch 50/50\n",
      "21/21 [==============================] - 0s 500us/step - loss: 0.3645 - accuracy: 0.8567\n"
     ]
    }
   ],
   "source": [
    "history = model.fit(X_train, y_train, epochs=50)"
   ]
  },
  {
   "cell_type": "code",
   "execution_count": 18,
   "metadata": {},
   "outputs": [
    {
     "data": {
      "image/png": "[encoded data removed]",
      "text/plain": [
       "<Figure size 720x576 with 1 Axes>"
      ]
     },
     "metadata": {},
     "output_type": "display_data"
    }
   ],
   "source": [
    "pd.DataFrame(history.history).plot(figsize=(10, 8))\n",
    "plt.grid(True)\n",
    "plt.gca().set_ylim(0, 1) # set the vertical range to [0-1]\n",
    "plt.show()"
   ]
  },
  {
   "cell_type": "code",
   "execution_count": 19,
   "metadata": {},
   "outputs": [
    {
     "name": "stdout",
     "output_type": "stream",
     "text": [
      "9/9 - 0s - loss: 0.3544 - accuracy: 0.8587 - 77ms/epoch - 9ms/step\n"
     ]
    },
    {
     "data": {
      "text/plain": [
       "[0.3543647527694702, 0.8586956262588501]"
      ]
     },
     "execution_count": 19,
     "metadata": {},
     "output_type": "execute_result"
    }
   ],
   "source": [
    "model.evaluate(X_test,  y_test, verbose=2)"
   ]
  },
  {
   "cell_type": "markdown",
   "metadata": {},
   "source": [
    "The accuracy by using TensorFlow package is also about 86%.\n",
    "\n",
    "---\n",
    "\n",
    "## Conclusion\n",
    "\n",
    "From the result above, we can see that the multilayer perceptron model performs well on the CVDs dataset. Compared with the single neuron perceptron model, the multilayer perceptron model has higher accuracy. The main reason is that the multilayer perceptron model can deal with non-linearly separable data."
   ]
  },
  {
   "cell_type": "markdown",
   "metadata": {},
   "source": []
  }
 ],
 "metadata": {
  "interpreter": {
   "hash": "c6e3de3013aa64c987b0d0ea220a933b22b0d06ac8866ebafdf417a10062e273"
  },
  "kernelspec": {
   "display_name": "Python 3.9.7 ('base')",
   "language": "python",
   "name": "python3"
  },
  "language_info": {
   "codemirror_mode": {
    "name": "ipython",
    "version": 3
   },
   "file_extension": ".py",
   "mimetype": "text/x-python",
   "name": "python",
   "nbconvert_exporter": "python",
   "pygments_lexer": "ipython3",
   "version": "3.9.7"
  },
  "orig_nbformat": 4
 },
 "nbformat": 4,
 "nbformat_minor": 2
}
