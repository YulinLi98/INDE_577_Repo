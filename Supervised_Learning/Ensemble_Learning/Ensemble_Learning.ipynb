{
 "cells": [
  {
   "cell_type": "markdown",
   "metadata": {},
   "source": [
    "# Ensemble Learning \n",
    "\n",
    "In this notebook, we briefly introduce the ensemble learning algorithms, then apply them on the CVDs dataset.\n",
    "\n",
    "---\n",
    "\n",
    "## Introduction \n",
    "\n",
    "**Ensemble methods** are machine learning methods that aggregate the predictions of a group of base learners in order to form a single learning model.\n",
    "\n",
    "In this notebook we will consider four types of ensemble concepts and methods. Namely, \n",
    "1. **Bagging**\n",
    "\n",
    "2. **Random Forests**\n",
    "\n",
    "3. **AdaBoost**\n",
    "\n",
    "4. **gradient boosting**\n",
    "\n",
    "--- \n",
    "\n",
    "## Algorithm and Coding\n",
    "\n",
    "In this part, we will briefly illustrate the algorithm of each ensemble method, then implment them by scikit-learn.\n",
    "\n",
    "### Bagging \n",
    "\n",
    "One way to get a diverse set of classifiers is to use the same training algorithm for every predictor and train them on different random subsets of the training set. When sampling is performed with replacement, this method is called **bagging** (short for bootstrap aggregating). \n",
    "\n",
    "Once all predictors are trained, the ensemble can make a prediction for a new instance by simply aggregating the predictions of all predictors. The aggregation function is typically the statistical mode for classification, or the average for regression. Each individual predictor has a higher bias than if it were trained on the original training set, but aggregation reduces both bias and variance.\n",
    "\n",
    "In order to show the performance of bagging method, we first import the libraries that we need and load the primary dataset."
   ]
  },
  {
   "cell_type": "code",
   "execution_count": 1,
   "metadata": {},
   "outputs": [],
   "source": [
    "# Import the libraries\n",
    "import matplotlib.pyplot as plt\n",
    "import numpy as np\n",
    "import pandas as pd\n",
    "import seaborn as sns\n",
    "from sklearn import preprocessing\n",
    "from sklearn.model_selection import train_test_split\n",
    "from sklearn.metrics import confusion_matrix\n",
    "from sklearn.metrics import classification_report\n",
    "\n",
    "# Set theme for plotting\n",
    "sns.set_theme()"
   ]
  },
  {
   "cell_type": "code",
   "execution_count": 2,
   "metadata": {},
   "outputs": [
    {
     "data": {
      "text/html": [
       "<div>\n",
       "<style scoped>\n",
       "    .dataframe tbody tr th:only-of-type {\n",
       "        vertical-align: middle;\n",
       "    }\n",
       "\n",
       "    .dataframe tbody tr th {\n",
       "        vertical-align: top;\n",
       "    }\n",
       "\n",
       "    .dataframe thead th {\n",
       "        text-align: right;\n",
       "    }\n",
       "</style>\n",
       "<table border=\"1\" class=\"dataframe\">\n",
       "  <thead>\n",
       "    <tr style=\"text-align: right;\">\n",
       "      <th></th>\n",
       "      <th>Age</th>\n",
       "      <th>Sex</th>\n",
       "      <th>RestingBP</th>\n",
       "      <th>Cholesterol</th>\n",
       "      <th>FastingBS</th>\n",
       "      <th>MaxHR</th>\n",
       "      <th>ExerciseAngina</th>\n",
       "      <th>Oldpeak</th>\n",
       "      <th>HeartDisease</th>\n",
       "      <th>ATA</th>\n",
       "      <th>NAP</th>\n",
       "      <th>TA</th>\n",
       "      <th>Normal</th>\n",
       "      <th>ST</th>\n",
       "      <th>Flat</th>\n",
       "      <th>Up</th>\n",
       "    </tr>\n",
       "  </thead>\n",
       "  <tbody>\n",
       "    <tr>\n",
       "      <th>0</th>\n",
       "      <td>-1.433140</td>\n",
       "      <td>1</td>\n",
       "      <td>0.410909</td>\n",
       "      <td>0.825070</td>\n",
       "      <td>0</td>\n",
       "      <td>1.382928</td>\n",
       "      <td>0</td>\n",
       "      <td>0.0</td>\n",
       "      <td>0</td>\n",
       "      <td>1</td>\n",
       "      <td>0</td>\n",
       "      <td>0</td>\n",
       "      <td>1</td>\n",
       "      <td>0</td>\n",
       "      <td>0</td>\n",
       "      <td>1</td>\n",
       "    </tr>\n",
       "    <tr>\n",
       "      <th>1</th>\n",
       "      <td>-0.478484</td>\n",
       "      <td>0</td>\n",
       "      <td>1.491752</td>\n",
       "      <td>-0.171961</td>\n",
       "      <td>0</td>\n",
       "      <td>0.754157</td>\n",
       "      <td>0</td>\n",
       "      <td>1.0</td>\n",
       "      <td>1</td>\n",
       "      <td>0</td>\n",
       "      <td>1</td>\n",
       "      <td>0</td>\n",
       "      <td>1</td>\n",
       "      <td>0</td>\n",
       "      <td>1</td>\n",
       "      <td>0</td>\n",
       "    </tr>\n",
       "    <tr>\n",
       "      <th>2</th>\n",
       "      <td>-1.751359</td>\n",
       "      <td>1</td>\n",
       "      <td>-0.129513</td>\n",
       "      <td>0.770188</td>\n",
       "      <td>0</td>\n",
       "      <td>-1.525138</td>\n",
       "      <td>0</td>\n",
       "      <td>0.0</td>\n",
       "      <td>0</td>\n",
       "      <td>1</td>\n",
       "      <td>0</td>\n",
       "      <td>0</td>\n",
       "      <td>0</td>\n",
       "      <td>1</td>\n",
       "      <td>0</td>\n",
       "      <td>1</td>\n",
       "    </tr>\n",
       "    <tr>\n",
       "      <th>3</th>\n",
       "      <td>-0.584556</td>\n",
       "      <td>0</td>\n",
       "      <td>0.302825</td>\n",
       "      <td>0.139040</td>\n",
       "      <td>0</td>\n",
       "      <td>-1.132156</td>\n",
       "      <td>1</td>\n",
       "      <td>1.5</td>\n",
       "      <td>1</td>\n",
       "      <td>0</td>\n",
       "      <td>0</td>\n",
       "      <td>0</td>\n",
       "      <td>1</td>\n",
       "      <td>0</td>\n",
       "      <td>1</td>\n",
       "      <td>0</td>\n",
       "    </tr>\n",
       "    <tr>\n",
       "      <th>4</th>\n",
       "      <td>0.051881</td>\n",
       "      <td>1</td>\n",
       "      <td>0.951331</td>\n",
       "      <td>-0.034755</td>\n",
       "      <td>0</td>\n",
       "      <td>-0.581981</td>\n",
       "      <td>0</td>\n",
       "      <td>0.0</td>\n",
       "      <td>0</td>\n",
       "      <td>0</td>\n",
       "      <td>1</td>\n",
       "      <td>0</td>\n",
       "      <td>1</td>\n",
       "      <td>0</td>\n",
       "      <td>0</td>\n",
       "      <td>1</td>\n",
       "    </tr>\n",
       "  </tbody>\n",
       "</table>\n",
       "</div>"
      ],
      "text/plain": [
       "        Age  Sex  RestingBP  Cholesterol  FastingBS     MaxHR  ExerciseAngina  \\\n",
       "0 -1.433140    1   0.410909     0.825070          0  1.382928               0   \n",
       "1 -0.478484    0   1.491752    -0.171961          0  0.754157               0   \n",
       "2 -1.751359    1  -0.129513     0.770188          0 -1.525138               0   \n",
       "3 -0.584556    0   0.302825     0.139040          0 -1.132156               1   \n",
       "4  0.051881    1   0.951331    -0.034755          0 -0.581981               0   \n",
       "\n",
       "   Oldpeak  HeartDisease  ATA  NAP  TA  Normal  ST  Flat  Up  \n",
       "0      0.0             0    1    0   0       1   0     0   1  \n",
       "1      1.0             1    0    1   0       1   0     1   0  \n",
       "2      0.0             0    1    0   0       0   1     0   1  \n",
       "3      1.5             1    0    0   0       1   0     1   0  \n",
       "4      0.0             0    0    1   0       1   0     0   1  "
      ]
     },
     "execution_count": 2,
     "metadata": {},
     "output_type": "execute_result"
    }
   ],
   "source": [
    "# Import the data\n",
    "df = pd.read_csv(\"https://raw.githubusercontent.com/YulinLi98/Sample_Repo/main/heart.csv\")\n",
    "\n",
    "# Data Preprocessing by onehot encoding\n",
    "df.Sex = df.Sex.replace({'M':1, 'F':0})\n",
    "df.ExerciseAngina = df.ExerciseAngina.replace({'Y':1, 'N':0})\n",
    "\n",
    "ChestPainType = pd.get_dummies(df.ChestPainType,drop_first=True)\n",
    "RestingECG = pd.get_dummies(df.RestingECG,drop_first=True)\n",
    "ST_Slope = pd.get_dummies(df.ST_Slope,drop_first=True)\n",
    "df = pd.concat([df,ChestPainType, RestingECG, ST_Slope],axis=1)\n",
    "df.drop(['ChestPainType', 'RestingECG', 'ST_Slope'],axis=1,inplace=True)\n",
    "\n",
    "# Standardize the data\n",
    "df.Age = preprocessing.scale(df.Age)\n",
    "df.RestingBP = preprocessing.scale(df.RestingBP)\n",
    "df.MaxHR = preprocessing.scale(df.MaxHR)\n",
    "df.Cholesterol = preprocessing.scale(df.Cholesterol)\n",
    "df.head()"
   ]
  },
  {
   "cell_type": "markdown",
   "metadata": {},
   "source": [
    "We create the training set and testing set."
   ]
  },
  {
   "cell_type": "code",
   "execution_count": 3,
   "metadata": {},
   "outputs": [],
   "source": [
    "X = df.drop('HeartDisease',axis=1)\n",
    "y = df.HeartDisease\n",
    "\n",
    "# Create a training set and a testing set\n",
    "X_train, X_test, y_train, y_test = train_test_split(X, y, test_size=0.30, random_state=42)"
   ]
  },
  {
   "cell_type": "markdown",
   "metadata": {},
   "source": [
    "From Scikit-Learn, we import ```DecisionTreeClassifier``` and ```BaggingClassifier```. We instantiate an instance of ```DecisionTreeClassifier``` with max_depth = 1 as the stump classifier, an instance of ```DecisionTreeClassifier``` with max_depth = 3 as the tree classifier, and finally an instance of ```BaggingClassifier``` which trains an ensemble of 500 ```DecisionTreeClassifier``` with max_depth = 1. Then we show the classification reports for these three classifiers."
   ]
  },
  {
   "cell_type": "code",
   "execution_count": 4,
   "metadata": {},
   "outputs": [
    {
     "name": "stdout",
     "output_type": "stream",
     "text": [
      "Stump Classification Report\n",
      "              precision    recall  f1-score   support\n",
      "\n",
      "           0       0.74      0.79      0.76       112\n",
      "           1       0.85      0.80      0.83       164\n",
      "\n",
      "    accuracy                           0.80       276\n",
      "   macro avg       0.79      0.80      0.80       276\n",
      "weighted avg       0.80      0.80      0.80       276\n",
      " \n",
      "\n",
      "Tree Classification Report\n",
      "              precision    recall  f1-score   support\n",
      "\n",
      "           0       0.77      0.88      0.82       112\n",
      "           1       0.91      0.82      0.86       164\n",
      "\n",
      "    accuracy                           0.84       276\n",
      "   macro avg       0.84      0.85      0.84       276\n",
      "weighted avg       0.85      0.84      0.84       276\n",
      " \n",
      "\n",
      "Bagging Classification Report\n",
      "              precision    recall  f1-score   support\n",
      "\n",
      "           0       0.74      0.79      0.76       112\n",
      "           1       0.85      0.80      0.83       164\n",
      "\n",
      "    accuracy                           0.80       276\n",
      "   macro avg       0.79      0.80      0.80       276\n",
      "weighted avg       0.80      0.80      0.80       276\n",
      " \n",
      "\n"
     ]
    }
   ],
   "source": [
    "from sklearn.tree import DecisionTreeClassifier\n",
    "from sklearn.ensemble import BaggingClassifier\n",
    "\n",
    "stump_clf = DecisionTreeClassifier(max_depth=1, random_state=42)\n",
    "stump_clf.fit(X_train, y_train)\n",
    "stump_y_pred = stump_clf.predict(X_test)\n",
    "print(f\"Stump Classification Report\")\n",
    "print(classification_report(y_test, stump_y_pred), \"\\n\")\n",
    "\n",
    "\n",
    "tree_clf = DecisionTreeClassifier(max_depth=3, random_state=42)\n",
    "tree_clf.fit(X_train, y_train)\n",
    "tree_y_pred = tree_clf.predict(X_test)\n",
    "print(f\"Tree Classification Report\")\n",
    "print(classification_report(y_test, tree_y_pred), \"\\n\")\n",
    "\n",
    "bag_clf = BaggingClassifier(DecisionTreeClassifier(max_depth=1, random_state=42),\n",
    "                            n_estimators = 500,\n",
    "                            bootstrap = True,\n",
    "                            n_jobs = -1)\n",
    "bag_clf.fit(X_train, y_train)\n",
    "bag_y_pred = bag_clf.predict(X_test)\n",
    "print(f\"Bagging Classification Report\")\n",
    "print(classification_report(y_test, bag_y_pred), \"\\n\")"
   ]
  },
  {
   "cell_type": "markdown",
   "metadata": {},
   "source": [
    "From the result above, we can see that the accuracy of the bagging classifier is similar to the stump classifier, and worse than the decision tree classifier. Now let's try to set the *max_depth = 3* in the bagging mehtod and compare it with decision tree classifier."
   ]
  },
  {
   "cell_type": "code",
   "execution_count": 5,
   "metadata": {},
   "outputs": [
    {
     "name": "stdout",
     "output_type": "stream",
     "text": [
      "Tree Classification Report\n",
      "              precision    recall  f1-score   support\n",
      "\n",
      "           0       0.77      0.88      0.82       112\n",
      "           1       0.91      0.82      0.86       164\n",
      "\n",
      "    accuracy                           0.84       276\n",
      "   macro avg       0.84      0.85      0.84       276\n",
      "weighted avg       0.85      0.84      0.84       276\n",
      " \n",
      "\n",
      "Bagging Classification Report\n",
      "              precision    recall  f1-score   support\n",
      "\n",
      "           0       0.80      0.82      0.81       112\n",
      "           1       0.88      0.86      0.87       164\n",
      "\n",
      "    accuracy                           0.84       276\n",
      "   macro avg       0.84      0.84      0.84       276\n",
      "weighted avg       0.85      0.84      0.84       276\n",
      " \n",
      "\n"
     ]
    }
   ],
   "source": [
    "tree_clf = DecisionTreeClassifier(max_depth=3, random_state=42)\n",
    "tree_clf.fit(X_train, y_train)\n",
    "tree_y_pred = tree_clf.predict(X_test)\n",
    "print(f\"Tree Classification Report\")\n",
    "print(classification_report(y_test, tree_y_pred), \"\\n\")\n",
    "\n",
    "bag_clf = BaggingClassifier(DecisionTreeClassifier(max_depth=3, random_state=42),\n",
    "                            n_estimators = 500,\n",
    "                            bootstrap = True,\n",
    "                            n_jobs = -1)\n",
    "bag_clf.fit(X_train, y_train)\n",
    "bag_y_pred = bag_clf.predict(X_test)\n",
    "print(f\"Bagging Classification Report\")\n",
    "print(classification_report(y_test, bag_y_pred), \"\\n\")"
   ]
  },
  {
   "cell_type": "markdown",
   "metadata": {},
   "source": [
    "The accuracy of bagging is the same as the decision tree classifier."
   ]
  },
  {
   "cell_type": "markdown",
   "metadata": {},
   "source": [
    "### Random Forests\n",
    "\n",
    "Random Forests was developed specifically to address the problem of high-variance in Decision Trees. Like the name suggests, you’re not training a single Decision Tree, you’re training an entire forest! In this case, a forest of Bagged Decision Trees.\n",
    "\n",
    "At a high-level, in pseudo-code, Random Forests algorithm follows these steps:\n",
    "1. Take the original dataset and create N bagged samples of size n, with n smaller than the original dataset.\n",
    "2. Train a Decision Tree with each of the N bagged datasets as input. But, when doing a node split, don’t explore all features in the dataset. Randomly select a smaller number, M features, from all the features in training set. Then pick the best split using impurity measures, like Gini Impurity or Entropy.\n",
    "3. Aggregate the results of the individual decision trees into a single output.\n",
    "4. Average the values for each observation, produced by each tree, if you’re working on a Regression task.\n",
    "5. Do a majority vote across all trees, for each observation, if you’re working on a Classification task.\n",
    "\n",
    "While Forest part of Random Forests refers to training multiple trees, the Random part is present at two different points in the algorithm.\n",
    "\n",
    "There’s the randomness involved in the Bagging process. But then, you also pick a random subset of features to evaluate the node split. This is what guarantees that each tree is different and, therefore, ensures each model produces a slightly different result.\n",
    "\n",
    "In the cell below, we import ```RandomForestClassifier``` from Scikit-Learn, and instantiate an instance of ```RandomForestClassifier``` class with max_depth = 1, then compare its classification result to ```DecisionTreeClassifier``` and ```BaggingClassifier```."
   ]
  },
  {
   "cell_type": "code",
   "execution_count": 6,
   "metadata": {},
   "outputs": [
    {
     "name": "stdout",
     "output_type": "stream",
     "text": [
      "Tree Classification Report\n",
      "              precision    recall  f1-score   support\n",
      "\n",
      "           0       0.77      0.88      0.82       112\n",
      "           1       0.91      0.82      0.86       164\n",
      "\n",
      "    accuracy                           0.84       276\n",
      "   macro avg       0.84      0.85      0.84       276\n",
      "weighted avg       0.85      0.84      0.84       276\n",
      " \n",
      "\n",
      "Bagging Classification Report\n",
      "              precision    recall  f1-score   support\n",
      "\n",
      "           0       0.74      0.79      0.76       112\n",
      "           1       0.85      0.80      0.83       164\n",
      "\n",
      "    accuracy                           0.80       276\n",
      "   macro avg       0.79      0.80      0.80       276\n",
      "weighted avg       0.80      0.80      0.80       276\n",
      " \n",
      "\n",
      "Forest Classification Report\n",
      "              precision    recall  f1-score   support\n",
      "\n",
      "           0       0.78      0.79      0.79       112\n",
      "           1       0.86      0.85      0.85       164\n",
      "\n",
      "    accuracy                           0.83       276\n",
      "   macro avg       0.82      0.82      0.82       276\n",
      "weighted avg       0.83      0.83      0.83       276\n",
      " \n",
      "\n"
     ]
    }
   ],
   "source": [
    "from sklearn.ensemble import RandomForestClassifier\n",
    "\n",
    "tree_clf = DecisionTreeClassifier(max_depth=3, random_state=42)\n",
    "tree_clf.fit(X_train, y_train)\n",
    "tree_y_pred = tree_clf.predict(X_test)\n",
    "print(f\"Tree Classification Report\")\n",
    "print(classification_report(y_test, tree_y_pred), \"\\n\")\n",
    "\n",
    "bag_clf = BaggingClassifier(DecisionTreeClassifier(max_depth=1, random_state=42),\n",
    "                            n_estimators = 500,\n",
    "                            bootstrap = True,\n",
    "                            n_jobs = -1)\n",
    "bag_clf.fit(X_train, y_train)\n",
    "bag_y_pred = bag_clf.predict(X_test)\n",
    "print(f\"Bagging Classification Report\")\n",
    "print(classification_report(y_test, bag_y_pred), \"\\n\")\n",
    "\n",
    "forest_clf = RandomForestClassifier(max_depth = 1, n_estimators = 500,\n",
    "                                    bootstrap = True,\n",
    "                                    n_jobs = -1)\n",
    "forest_clf.fit(X_train, y_train)\n",
    "forest_y_pred = forest_clf.predict(X_test)\n",
    "print(f\"Forest Classification Report\")\n",
    "print(classification_report(y_test, forest_y_pred), \"\\n\")"
   ]
  },
  {
   "cell_type": "markdown",
   "metadata": {},
   "source": [
    "The accuracy for random forests is better than bagging, and a bit worse than decision trees. Now, let's change the max_depth."
   ]
  },
  {
   "cell_type": "code",
   "execution_count": 7,
   "metadata": {},
   "outputs": [
    {
     "name": "stdout",
     "output_type": "stream",
     "text": [
      "Tree Classification Report\n",
      "              precision    recall  f1-score   support\n",
      "\n",
      "           0       0.77      0.88      0.82       112\n",
      "           1       0.91      0.82      0.86       164\n",
      "\n",
      "    accuracy                           0.84       276\n",
      "   macro avg       0.84      0.85      0.84       276\n",
      "weighted avg       0.85      0.84      0.84       276\n",
      " \n",
      "\n",
      "Forest Classification Report\n",
      "              precision    recall  f1-score   support\n",
      "\n",
      "           0       0.81      0.80      0.81       112\n",
      "           1       0.87      0.87      0.87       164\n",
      "\n",
      "    accuracy                           0.84       276\n",
      "   macro avg       0.84      0.84      0.84       276\n",
      "weighted avg       0.84      0.84      0.84       276\n",
      " \n",
      "\n"
     ]
    }
   ],
   "source": [
    "tree_clf = DecisionTreeClassifier(max_depth=3, random_state=42)\n",
    "tree_clf.fit(X_train, y_train)\n",
    "tree_y_pred = tree_clf.predict(X_test)\n",
    "print(f\"Tree Classification Report\")\n",
    "print(classification_report(y_test, tree_y_pred), \"\\n\")\n",
    "\n",
    "forest_clf = RandomForestClassifier(max_depth = 3, n_estimators = 500,\n",
    "                                    bootstrap = True,\n",
    "                                    n_jobs = -1)\n",
    "forest_clf.fit(X_train, y_train)\n",
    "forest_y_pred = forest_clf.predict(X_test)\n",
    "print(f\"Forest Classification Report\")\n",
    "print(classification_report(y_test, forest_y_pred), \"\\n\")"
   ]
  },
  {
   "cell_type": "markdown",
   "metadata": {},
   "source": [
    "By setting the max_depth = 3 in Random Forests classfier, the accuracy increases to 0.84, which is similar to the decision tree classifier."
   ]
  },
  {
   "cell_type": "markdown",
   "metadata": {},
   "source": [
    "### Feature Importance \n",
    "Another great quality of Random Forests is that they make it easy to measure the relative importance of each feature. Scikit-Learn measures a feature’s importance bylooking at how much the tree nodes that use that feature reduce impurity on average (across all trees in the forest). More precisely, it is a weighted average, where each\n",
    "node’s weight is equal to the number of training samples that are associated with it."
   ]
  },
  {
   "cell_type": "code",
   "execution_count": 8,
   "metadata": {},
   "outputs": [
    {
     "name": "stdout",
     "output_type": "stream",
     "text": [
      "Age 0.04747167336400108\n",
      "Sex 0.026313650870998725\n",
      "RestingBP 0.009722856673981413\n",
      "Cholesterol 0.04738081146583445\n",
      "FastingBS 0.0137634724994016\n",
      "MaxHR 0.058891161475057324\n",
      "ExerciseAngina 0.12479679115168338\n",
      "Oldpeak 0.11369353851957696\n",
      "ATA 0.040323173087979426\n",
      "NAP 0.014079421628129479\n",
      "TA 0.001560728545987415\n",
      "Normal 0.0015908021139293869\n",
      "ST 0.0008134820099307216\n",
      "Flat 0.1891191141079458\n",
      "Up 0.31047932248556287\n"
     ]
    }
   ],
   "source": [
    "names = X.columns.to_list()\n",
    "for name, score in zip(names, forest_clf.feature_importances_):\n",
    "    print(name, score)"
   ]
  },
  {
   "cell_type": "markdown",
   "metadata": {},
   "source": [
    "We can see that the feature importance for 'Up', 'Flat' and 'ExerciseAngina' is higher than other attributes, "
   ]
  },
  {
   "cell_type": "markdown",
   "metadata": {},
   "source": [
    "### AdaBoost \n",
    "\n",
    "One way for a new predictor to correct its predecessor is to pay a bit more attention to the training instances that the predecessor underfitted. This results in new predictors focusing more and more on the hard cases. This is the technique used by AdaBoost.\n",
    "\n",
    "For example, when training an AdaBoost classifier, the algorithm first trains a base classifier (such as a Decision Tree) and uses it to make predictions on the training set. The algorithm then increases the relative weight of misclassified training instances. Then it trains a second classifier, using the updated weights, and again makes predictions on the training set, updates the instance weights, and so on.\n",
    "\n",
    "Once all predictors are trained, the ensemble makes predictions very much like bagging, except that predictors have different weights depending on their overall accuracy on the weighted training set.\n",
    "\n",
    "Let’s take a closer look at the AdaBoost algorithm. Each instance weight $w^{(i)}$ is initially\n",
    "set to $\\frac1m$. A first predictor is trained, and its weighted error rate $r_j$ is computed on the training set:\n",
    "\n",
    "$$\n",
    "r_j = \\frac{\\sum_{i=1, \\hat{y}_j^{(i)}\\ne y^{(i)}}^m w^{(i)}}{\\sum_{i=1}^m w^{(i)}},\n",
    "$$\n",
    "\n",
    "where $\\hat{y}_j^{(i)}$ is the $j^{th}$ predictor's prediction for the $i^{th}$ instance. With the weighted error rate, we can compute the predictor's weight $\\alpha_j$: \n",
    "\n",
    "$$\n",
    "\\alpha_j = \\eta \\log \\frac{1-r_j}{r_j},\n",
    "$$\n",
    "\n",
    "where $\\eta$ is the learning rate hyperparameter. The more accurate the predictor is, the higher its weight will be. If it is just guessing randomly, then its weight will be close to zero. However, if it is most often wrong (i.e., less accurate than random guessing), then its weight will be negative.\n",
    "\n",
    "Next, the AdaBoost algorithm updates the instance weights, using the equation below, which boosts the weights of the misclassified instances.\n",
    "\n",
    "Weight update rule: for $i = 1,2,\\cdots, m$\n",
    "\n",
    "$$\n",
    "w^{(i)} = \\begin{cases}\n",
    "w^{(i)}& \\text{if } \\hat{y}_j^{(i)}= y^{(i)}\\\\\n",
    "w^{(i)} \\exp(\\alpha_j) & \\text{if } \\hat{y}_j^{(i)} \\ne y^{(i)}\n",
    "\\end{cases}\n",
    "$$\n",
    "\n",
    "Then all the instance weights are normalized. \n",
    "\n",
    "Finally, a new predictor is trained using the updated weights, and the whole process is repeated (the new predictor’s weight is computed, the instance weights are updated, then another predictor is trained, and so on). The algorithm stops when the desired number of predictors is reached, or when a perfect predictor is found.\n",
    "\n",
    "To make predictions, AdaBoost simply computes the predictions of all the predictors and weighs them using the predictor weights $\\alpha_j$. The predicted class is the one that receives the majority of weighted votes.\n",
    "\n",
    "$$\n",
    "\\hat{y}(x) = \\text{argmax}_k \\sum_{j=1, \\hat{y}_j(x) = k}^N \\alpha_j, \n",
    "$$\n",
    "\n",
    "where $N$ is the number of predictors.\n",
    "\n"
   ]
  },
  {
   "cell_type": "code",
   "execution_count": 9,
   "metadata": {},
   "outputs": [
    {
     "name": "stdout",
     "output_type": "stream",
     "text": [
      "AdaBoost Classification Report\n",
      "              precision    recall  f1-score   support\n",
      "\n",
      "           0       0.80      0.86      0.83       112\n",
      "           1       0.90      0.85      0.88       164\n",
      "\n",
      "    accuracy                           0.86       276\n",
      "   macro avg       0.85      0.86      0.85       276\n",
      "weighted avg       0.86      0.86      0.86       276\n",
      " \n",
      "\n"
     ]
    }
   ],
   "source": [
    "from sklearn.ensemble import AdaBoostClassifier\n",
    "\n",
    "ada_clf = AdaBoostClassifier(DecisionTreeClassifier(max_depth=1, random_state=42), \n",
    "                             n_estimators = 10,\n",
    "                             algorithm = \"SAMME.R\",\n",
    "                             learning_rate = 0.5)\n",
    "ada_clf.fit(X_train, y_train)\n",
    "ada_y_pred = ada_clf.predict(X_test)\n",
    "print(f\"AdaBoost Classification Report\")\n",
    "print(classification_report(y_test, ada_y_pred), \"\\n\")"
   ]
  },
  {
   "cell_type": "markdown",
   "metadata": {},
   "source": [
    "The model performance for AdaBoost is better than Random Forests."
   ]
  },
  {
   "cell_type": "markdown",
   "metadata": {},
   "source": [
    "### Gradient Boosting \n",
    "\n",
    "Another very popular boosting algorithm is Gradient Boosting. Just like AdaBoost, Gradient Boosting works by sequentially adding predictors to an ensemble, each one correcting its predecessor. However, instead of tweaking the instance weights at every iteration like AdaBoost does, this method tries to fit the new predictor to the residual errors made by the previous predictor.\n",
    "\n",
    "We will implement the gradient boosting regressor on the *diabetes* dataset from Scikit-Learn."
   ]
  },
  {
   "cell_type": "code",
   "execution_count": 10,
   "metadata": {},
   "outputs": [],
   "source": [
    "from sklearn.metrics import mean_squared_error, r2_score\n",
    "from sklearn.datasets import load_diabetes\n",
    "diabetes = load_diabetes()\n",
    "df = pd.DataFrame(diabetes.data,columns = ['age', 'sex', 'bmi', 'bp', 'tc', 'ldl', 'hdl', 'tch', 'ltg', 'glu'])\n",
    "df['target'] = diabetes.target\n",
    "X = df.drop('target',axis=1)     # the response variables\n",
    "y = df.target                    # the exploratory variable\n",
    "\n",
    "# scale the data\n",
    "X_scaled = preprocessing.scale(X)\n",
    "y_scaled = preprocessing.scale(y)"
   ]
  },
  {
   "cell_type": "code",
   "execution_count": 11,
   "metadata": {},
   "outputs": [
    {
     "name": "stdout",
     "output_type": "stream",
     "text": [
      "MSE for tree_reg is: 0.5874429374145208\n",
      "The R^2 for tree_reg is: 0.355\n",
      "\n",
      "MSE for gb_reg is: 0.4856595296678298\n",
      "The R^2 for gb_reg is: 0.467\n"
     ]
    }
   ],
   "source": [
    "from sklearn.ensemble import GradientBoostingRegressor\n",
    "from sklearn.tree import DecisionTreeRegressor\n",
    "\n",
    "# Create a training set and a testing set\n",
    "X_train, X_test, y_train, y_test = train_test_split(X_scaled, y_scaled, test_size=0.30, random_state=42)\n",
    "\n",
    "\n",
    "tree_reg = DecisionTreeRegressor(max_depth=4, random_state=42)\n",
    "tree_reg.fit(X_train, y_train)\n",
    "y_pred = tree_reg.predict(X_test)\n",
    "print(f\"MSE for tree_reg is: {mean_squared_error(y_test, y_pred)}\")\n",
    "print(f\"The R^2 for tree_reg is: {round(r2_score(y_test, y_pred), 3)}\\n\")\n",
    "\n",
    "\n",
    "gb_reg = GradientBoostingRegressor(max_depth = 2, n_estimators = 150, random_state=42)\n",
    "gb_reg.fit(X_train, y_train)\n",
    "y_pred = gb_reg.predict(X_test)\n",
    "\n",
    "print(f\"MSE for gb_reg is: {mean_squared_error(y_test, y_pred)}\")\n",
    "print(f\"The R^2 for gb_reg is: {round(r2_score(y_test, y_pred), 3)}\")"
   ]
  },
  {
   "cell_type": "markdown",
   "metadata": {},
   "source": [
    "The MSE for gradient boosting regressor is less than decision tree regressor and the $R^2$ for gradient boosting regressor is greater than decision tree regressor, meaning that gradient boosting regressor has a better performance."
   ]
  },
  {
   "cell_type": "markdown",
   "metadata": {},
   "source": [
    "In order to find the optimal number of trees, we can use early stopping. A simple way to implement this is to use the **staged_predict()** method: it returns an iterator over the predictions made by the ensemble at each stage of training."
   ]
  },
  {
   "cell_type": "code",
   "execution_count": 12,
   "metadata": {},
   "outputs": [
    {
     "data": {
      "image/png": "[encoded data removed]",
      "text/plain": [
       "<Figure size 720x576 with 1 Axes>"
      ]
     },
     "metadata": {},
     "output_type": "display_data"
    }
   ],
   "source": [
    "errors = [mean_squared_error(y_test, y_pred)\n",
    " for y_pred in gb_reg.staged_predict(X_test)]\n",
    "\n",
    "plt.figure(figsize=(10, 8))\n",
    "plt.scatter(range(1,len(errors)+1), errors)\n",
    "plt.plot(range(1,len(errors)+1), errors, color = \"blue\")\n",
    "plt.xlabel('Number of Trees', fontsize = 14)\n",
    "plt.ylabel('Error', fontsize = 14)\n",
    "plt.title('Validation error', fontsize = 20)\n",
    "plt.show()"
   ]
  },
  {
   "cell_type": "code",
   "execution_count": 13,
   "metadata": {},
   "outputs": [
    {
     "name": "stdout",
     "output_type": "stream",
     "text": [
      "MSE for gbrt_best is: 0.4533168870463858\n",
      "The R^2 for gbrt_best is: 0.502\n"
     ]
    }
   ],
   "source": [
    "bst_n_estimators = np.argmin(errors) + 1\n",
    "gbrt_best = GradientBoostingRegressor(max_depth=2,n_estimators=bst_n_estimators)\n",
    "gbrt_best.fit(X_train, y_train)\n",
    "\n",
    "y_pred = gbrt_best.predict(X_test)\n",
    "\n",
    "print(f\"MSE for gbrt_best is: {mean_squared_error(y_test, y_pred)}\")\n",
    "print(f\"The R^2 for gbrt_best is: {round(r2_score(y_test, y_pred), 3)}\")"
   ]
  },
  {
   "cell_type": "markdown",
   "metadata": {},
   "source": [
    "The $R^2$ for gradient boosting regressor with diabates data set is greater than 0.50. Compared with k-NN regression and decison tree regression, the performance of gradient boosting regression on diabetes data set is the best."
   ]
  },
  {
   "cell_type": "markdown",
   "metadata": {},
   "source": []
  }
 ],
 "metadata": {
  "interpreter": {
   "hash": "c6e3de3013aa64c987b0d0ea220a933b22b0d06ac8866ebafdf417a10062e273"
  },
  "kernelspec": {
   "display_name": "Python 3.9.7 ('base')",
   "language": "python",
   "name": "python3"
  },
  "language_info": {
   "codemirror_mode": {
    "name": "ipython",
    "version": 3
   },
   "file_extension": ".py",
   "mimetype": "text/x-python",
   "name": "python",
   "nbconvert_exporter": "python",
   "pygments_lexer": "ipython3",
   "version": "3.9.7"
  },
  "orig_nbformat": 4
 },
 "nbformat": 4,
 "nbformat_minor": 2
}
