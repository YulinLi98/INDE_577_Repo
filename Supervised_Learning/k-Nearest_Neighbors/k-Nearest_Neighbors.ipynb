{
 "cells": [
  {
   "cell_type": "markdown",
   "metadata": {},
   "source": [
    "# k-Nearest Neighbors\n",
    "\n",
    "In this notebook, we briefly introduce the k-NN model, then apply it on the CVDs dataset and diabetes dataset.\n",
    "\n",
    "---\n",
    "\n",
    "## Introduction\n",
    "\n",
    "The [k-nearest neighbors](https://en.wikipedia.org/wiki/K-nearest_neighbors_algorithm) algorithm (k-NN) is a non-parametric supervised learning method. It can be used for classification and regression.\n",
    "\n",
    "---\n",
    "\n",
    "## Algorithm\n",
    "\n",
    "In the k-NN algorithm, we first assign a $\\mathcal{k}$ value. For both classification and regression cases, the input consists of $\\mathcal{k}$ nearest examples in the dataset. The output depends on whether k-NN is used for classification or regression: \n",
    "* In k-NN classification, the output is a class membership. An object is classified by a plurality vote of its neighbors, with the object being assigned to the class most common among its k nearest neighbors.\n",
    "* In k-NN regression, the output is the property value for the object. This value is the average of the values of k nearest neighbors.\n",
    "\n",
    "---\n",
    "\n",
    "## Advantages and Disadvantages \n",
    "\n",
    "### Advantages\n",
    "* The algorithm is simple and easy to implement.\n",
    "* There’s no need to build a model, tune several parameters, or make additional assumptions.\n",
    "* The algorithm is versatile. It can be used for classification, regression, and search (as we will see in the next section).\n",
    "\n",
    "\n",
    "### Disadvantages\n",
    "* The algorithm gets significantly slower as the number of examples and/or predictors/independent variables increase.\n",
    "\n",
    "---\n",
    "\n",
    "## k-NN Classification\n",
    "\n",
    "As what we did before, we import the libraries and data set."
   ]
  },
  {
   "cell_type": "code",
   "execution_count": 1,
   "metadata": {},
   "outputs": [],
   "source": [
    "# Import the libraries\n",
    "import matplotlib.pyplot as plt\n",
    "import numpy as np\n",
    "import pandas as pd\n",
    "import seaborn as sns\n",
    "from sklearn import preprocessing\n",
    "from sklearn.model_selection import train_test_split\n",
    "\n",
    "# Set theme for plotting\n",
    "sns.set_theme()"
   ]
  },
  {
   "cell_type": "code",
   "execution_count": 2,
   "metadata": {},
   "outputs": [
    {
     "data": {
      "text/html": [
       "<div>\n",
       "<style scoped>\n",
       "    .dataframe tbody tr th:only-of-type {\n",
       "        vertical-align: middle;\n",
       "    }\n",
       "\n",
       "    .dataframe tbody tr th {\n",
       "        vertical-align: top;\n",
       "    }\n",
       "\n",
       "    .dataframe thead th {\n",
       "        text-align: right;\n",
       "    }\n",
       "</style>\n",
       "<table border=\"1\" class=\"dataframe\">\n",
       "  <thead>\n",
       "    <tr style=\"text-align: right;\">\n",
       "      <th></th>\n",
       "      <th>Age</th>\n",
       "      <th>Sex</th>\n",
       "      <th>RestingBP</th>\n",
       "      <th>Cholesterol</th>\n",
       "      <th>FastingBS</th>\n",
       "      <th>MaxHR</th>\n",
       "      <th>ExerciseAngina</th>\n",
       "      <th>Oldpeak</th>\n",
       "      <th>HeartDisease</th>\n",
       "      <th>ATA</th>\n",
       "      <th>NAP</th>\n",
       "      <th>TA</th>\n",
       "      <th>Normal</th>\n",
       "      <th>ST</th>\n",
       "      <th>Flat</th>\n",
       "      <th>Up</th>\n",
       "    </tr>\n",
       "  </thead>\n",
       "  <tbody>\n",
       "    <tr>\n",
       "      <th>0</th>\n",
       "      <td>-1.433140</td>\n",
       "      <td>1</td>\n",
       "      <td>0.410909</td>\n",
       "      <td>0.825070</td>\n",
       "      <td>0</td>\n",
       "      <td>1.382928</td>\n",
       "      <td>0</td>\n",
       "      <td>0.0</td>\n",
       "      <td>0</td>\n",
       "      <td>1</td>\n",
       "      <td>0</td>\n",
       "      <td>0</td>\n",
       "      <td>1</td>\n",
       "      <td>0</td>\n",
       "      <td>0</td>\n",
       "      <td>1</td>\n",
       "    </tr>\n",
       "    <tr>\n",
       "      <th>1</th>\n",
       "      <td>-0.478484</td>\n",
       "      <td>0</td>\n",
       "      <td>1.491752</td>\n",
       "      <td>-0.171961</td>\n",
       "      <td>0</td>\n",
       "      <td>0.754157</td>\n",
       "      <td>0</td>\n",
       "      <td>1.0</td>\n",
       "      <td>1</td>\n",
       "      <td>0</td>\n",
       "      <td>1</td>\n",
       "      <td>0</td>\n",
       "      <td>1</td>\n",
       "      <td>0</td>\n",
       "      <td>1</td>\n",
       "      <td>0</td>\n",
       "    </tr>\n",
       "    <tr>\n",
       "      <th>2</th>\n",
       "      <td>-1.751359</td>\n",
       "      <td>1</td>\n",
       "      <td>-0.129513</td>\n",
       "      <td>0.770188</td>\n",
       "      <td>0</td>\n",
       "      <td>-1.525138</td>\n",
       "      <td>0</td>\n",
       "      <td>0.0</td>\n",
       "      <td>0</td>\n",
       "      <td>1</td>\n",
       "      <td>0</td>\n",
       "      <td>0</td>\n",
       "      <td>0</td>\n",
       "      <td>1</td>\n",
       "      <td>0</td>\n",
       "      <td>1</td>\n",
       "    </tr>\n",
       "    <tr>\n",
       "      <th>3</th>\n",
       "      <td>-0.584556</td>\n",
       "      <td>0</td>\n",
       "      <td>0.302825</td>\n",
       "      <td>0.139040</td>\n",
       "      <td>0</td>\n",
       "      <td>-1.132156</td>\n",
       "      <td>1</td>\n",
       "      <td>1.5</td>\n",
       "      <td>1</td>\n",
       "      <td>0</td>\n",
       "      <td>0</td>\n",
       "      <td>0</td>\n",
       "      <td>1</td>\n",
       "      <td>0</td>\n",
       "      <td>1</td>\n",
       "      <td>0</td>\n",
       "    </tr>\n",
       "    <tr>\n",
       "      <th>4</th>\n",
       "      <td>0.051881</td>\n",
       "      <td>1</td>\n",
       "      <td>0.951331</td>\n",
       "      <td>-0.034755</td>\n",
       "      <td>0</td>\n",
       "      <td>-0.581981</td>\n",
       "      <td>0</td>\n",
       "      <td>0.0</td>\n",
       "      <td>0</td>\n",
       "      <td>0</td>\n",
       "      <td>1</td>\n",
       "      <td>0</td>\n",
       "      <td>1</td>\n",
       "      <td>0</td>\n",
       "      <td>0</td>\n",
       "      <td>1</td>\n",
       "    </tr>\n",
       "  </tbody>\n",
       "</table>\n",
       "</div>"
      ],
      "text/plain": [
       "        Age  Sex  RestingBP  Cholesterol  FastingBS     MaxHR  ExerciseAngina  \\\n",
       "0 -1.433140    1   0.410909     0.825070          0  1.382928               0   \n",
       "1 -0.478484    0   1.491752    -0.171961          0  0.754157               0   \n",
       "2 -1.751359    1  -0.129513     0.770188          0 -1.525138               0   \n",
       "3 -0.584556    0   0.302825     0.139040          0 -1.132156               1   \n",
       "4  0.051881    1   0.951331    -0.034755          0 -0.581981               0   \n",
       "\n",
       "   Oldpeak  HeartDisease  ATA  NAP  TA  Normal  ST  Flat  Up  \n",
       "0      0.0             0    1    0   0       1   0     0   1  \n",
       "1      1.0             1    0    1   0       1   0     1   0  \n",
       "2      0.0             0    1    0   0       0   1     0   1  \n",
       "3      1.5             1    0    0   0       1   0     1   0  \n",
       "4      0.0             0    0    1   0       1   0     0   1  "
      ]
     },
     "execution_count": 2,
     "metadata": {},
     "output_type": "execute_result"
    }
   ],
   "source": [
    "# Import the data\n",
    "df = pd.read_csv(\"https://raw.githubusercontent.com/YulinLi98/Sample_Repo/main/heart.csv\")\n",
    "\n",
    "# Data Preprocessing by onehot encoding\n",
    "df.Sex = df.Sex.replace({'M':1, 'F':0})\n",
    "df.ExerciseAngina = df.ExerciseAngina.replace({'Y':1, 'N':0})\n",
    "\n",
    "ChestPainType = pd.get_dummies(df.ChestPainType,drop_first=True)\n",
    "RestingECG = pd.get_dummies(df.RestingECG,drop_first=True)\n",
    "ST_Slope = pd.get_dummies(df.ST_Slope,drop_first=True)\n",
    "df = pd.concat([df,ChestPainType, RestingECG, ST_Slope],axis=1)\n",
    "df.drop(['ChestPainType', 'RestingECG', 'ST_Slope'],axis=1,inplace=True)\n",
    "\n",
    "# Standardize the data\n",
    "df.Age = preprocessing.scale(df.Age)\n",
    "df.RestingBP = preprocessing.scale(df.RestingBP)\n",
    "df.MaxHR = preprocessing.scale(df.MaxHR)\n",
    "df.Cholesterol = preprocessing.scale(df.Cholesterol)\n",
    "df.head()"
   ]
  },
  {
   "cell_type": "markdown",
   "metadata": {},
   "source": [
    "We create the training and testing set."
   ]
  },
  {
   "cell_type": "code",
   "execution_count": 3,
   "metadata": {},
   "outputs": [],
   "source": [
    "X = df.drop('HeartDisease',axis=1).to_numpy()\n",
    "y = df.HeartDisease.to_numpy()\n",
    "\n",
    "# Create a training set and a testing set\n",
    "X_train, X_test, y_train, y_test = train_test_split(X, y, test_size=0.30, random_state=42)"
   ]
  },
  {
   "cell_type": "markdown",
   "metadata": {},
   "source": [
    "For our distance measure, we will choose the **Euclidean distance** defined by the following equation:\n",
    "\n",
    "$$\n",
    "d(p, q) = \\sqrt{(p - q)^{T} (p - q)}\n",
    "$$"
   ]
  },
  {
   "cell_type": "code",
   "execution_count": 4,
   "metadata": {},
   "outputs": [],
   "source": [
    "def distance(p, q):\n",
    "    return np.sqrt((p - q) @ (p - q))"
   ]
  },
  {
   "cell_type": "markdown",
   "metadata": {},
   "source": [
    "With our distance function, we are now ready to write a function to compute the $k$-nearest neighbors to a given point. This is done in the code cell below. "
   ]
  },
  {
   "cell_type": "code",
   "execution_count": 5,
   "metadata": {},
   "outputs": [],
   "source": [
    "def k_nearest_neighbors(point, \n",
    "                        training_features, \n",
    "                        training_labels, \n",
    "                        k):\n",
    "    # Create an empty list to store neighbors and distances\n",
    "    neighbors = []\n",
    "    \n",
    "    \n",
    "    for i, p in enumerate(training_features):\n",
    "        d = distance(point, p)\n",
    "        temp_data = [p, training_labels[i], d]\n",
    "        neighbors.append(temp_data)\n",
    "        \n",
    "    neighbors.sort(key = lambda x : x[-1])\n",
    "    \n",
    "    return neighbors[:k]"
   ]
  },
  {
   "cell_type": "markdown",
   "metadata": {},
   "source": [
    "Now let's try the ```k_nearest_neighbors``` function on the last observation of testing set and find the 5 data points closest to it from the training set."
   ]
  },
  {
   "cell_type": "code",
   "execution_count": 6,
   "metadata": {},
   "outputs": [
    {
     "data": {
      "text/plain": [
       "[[array([ 0.68831845,  0.        , -1.64269366,  1.09033547,  0.        ,\n",
       "          0.91134991,  0.        ,  0.        ,  0.        ,  1.        ,\n",
       "          0.        ,  1.        ,  0.        ,  0.        ,  1.        ]),\n",
       "  0,\n",
       "  1.119887503386009],\n",
       " [array([ 0.15795389,  1.        , -1.21035628,  0.71530535,  0.        ,\n",
       "          0.91134991,  0.        ,  0.        ,  0.        ,  1.        ,\n",
       "          0.        ,  1.        ,  0.        ,  0.        ,  1.        ]),\n",
       "  0,\n",
       "  1.3956314626574324],\n",
       " [array([0.05188098, 0.        , 0.14069803, 0.9622764 , 1.        ,\n",
       "         1.30433183, 0.        , 0.        , 0.        , 1.        ,\n",
       "         0.        , 1.        , 0.        , 0.        , 1.        ]),\n",
       "  0,\n",
       "  1.3970544059758845],\n",
       " [array([ 0.05188098,  0.        , -1.31844062,  0.62383458,  0.        ,\n",
       "          1.18643726,  0.        ,  0.        ,  0.        ,  1.        ,\n",
       "          0.        ,  0.        ,  0.        ,  0.        ,  1.        ]),\n",
       "  0,\n",
       "  1.443975187681677],\n",
       " [array([ 0.79439137,  0.        , -0.12951283,  1.20010039,  0.        ,\n",
       "          1.26503364,  0.        ,  0.        ,  0.        ,  0.        ,\n",
       "          0.        ,  0.        ,  0.        ,  0.        ,  1.        ]),\n",
       "  1,\n",
       "  1.5542151833409041]]"
      ]
     },
     "execution_count": 6,
     "metadata": {},
     "output_type": "execute_result"
    }
   ],
   "source": [
    "k_nearest_neighbors(X_test[-1], X_train, y_train, 5)"
   ]
  },
  {
   "cell_type": "markdown",
   "metadata": {},
   "source": [
    "Observe that within the 5 closest points, 4 of them have label 0. Now let's see the true label of the last observation in the testing set."
   ]
  },
  {
   "cell_type": "code",
   "execution_count": 7,
   "metadata": {},
   "outputs": [
    {
     "data": {
      "text/plain": [
       "0"
      ]
     },
     "execution_count": 7,
     "metadata": {},
     "output_type": "execute_result"
    }
   ],
   "source": [
    "y_test[-1]"
   ]
  },
  {
   "cell_type": "markdown",
   "metadata": {},
   "source": [
    "Now that we have a function to compute the $k$-nearest neighbors to a point, we can now write a function to predict a target label. However, we should note that KNN can be used for both classification and regression machine learning. This is shown in the code cell below. "
   ]
  },
  {
   "cell_type": "code",
   "execution_count": 8,
   "metadata": {},
   "outputs": [],
   "source": [
    "def KNN_Predict(point, \n",
    "                training_features, \n",
    "                training_labels, \n",
    "                k, \n",
    "                regression = False):\n",
    "    \n",
    "    neighbors = k_nearest_neighbors(point, \n",
    "                                    training_features, \n",
    "                                    training_labels, \n",
    "                                    k)\n",
    "    \n",
    "    if regression == False:\n",
    "        labels = [x[1] for x in neighbors]\n",
    "        return max(labels, key = labels.count)\n",
    "    \n",
    "    else:\n",
    "        return sum(x[1] for x in neighbors)/k"
   ]
  },
  {
   "cell_type": "markdown",
   "metadata": {},
   "source": [
    "We can examine the established ```KNN_Predict``` function by running the cell below."
   ]
  },
  {
   "cell_type": "code",
   "execution_count": 9,
   "metadata": {},
   "outputs": [
    {
     "data": {
      "text/plain": [
       "0"
      ]
     },
     "execution_count": 9,
     "metadata": {},
     "output_type": "execute_result"
    }
   ],
   "source": [
    "KNN_Predict(X_test[-1], X_train, y_train, 5)"
   ]
  },
  {
   "cell_type": "markdown",
   "metadata": {},
   "source": [
    "Next we write a function to compute the classification error."
   ]
  },
  {
   "cell_type": "code",
   "execution_count": 10,
   "metadata": {},
   "outputs": [],
   "source": [
    "def classification_error(test_features, \n",
    "                         test_labels,\n",
    "                         training_features, \n",
    "                         training_labels,\n",
    "                         k):\n",
    "    error = 0\n",
    "    for i, point in enumerate(test_features):\n",
    "        error += test_labels[i] != KNN_Predict(point, \n",
    "                                               training_features, \n",
    "                                               training_labels, \n",
    "                                               k)\n",
    "    return error/len(test_features)"
   ]
  },
  {
   "cell_type": "markdown",
   "metadata": {},
   "source": [
    "For k-NN with $k = 5$, the classification error is shown as below."
   ]
  },
  {
   "cell_type": "code",
   "execution_count": 11,
   "metadata": {},
   "outputs": [
    {
     "data": {
      "text/plain": [
       "0.14130434782608695"
      ]
     },
     "execution_count": 11,
     "metadata": {},
     "output_type": "execute_result"
    }
   ],
   "source": [
    "classification_error(X_test, y_test, X_train, y_train, 5)"
   ]
  },
  {
   "cell_type": "markdown",
   "metadata": {},
   "source": [
    "Now let's do an experiment with different $k$ values in order to find the optimal value of $k$. "
   ]
  },
  {
   "cell_type": "code",
   "execution_count": 12,
   "metadata": {},
   "outputs": [
    {
     "data": {
      "image/png": "[encoded data removed]",
      "text/plain": [
       "<Figure size 720x576 with 1 Axes>"
      ]
     },
     "metadata": {},
     "output_type": "display_data"
    }
   ],
   "source": [
    "## Choosing the right value for K\n",
    "possible_k = [x for x in range(3, 26, 2)]\n",
    "errors = [classification_error(X_test,\n",
    "                               y_test,\n",
    "                               X_train,\n",
    "                               y_train, k) for k in possible_k]\n",
    "\n",
    "plt.figure(figsize = (10, 8))\n",
    "plt.plot(possible_k, errors, color = 'red')\n",
    "plt.scatter(possible_k, errors, color = 'red')\n",
    "plt.xlabel('k', fontsize = 14)\n",
    "plt.ylabel('Classification Error', fontsize = 14)\n",
    "plt.xticks(possible_k)\n",
    "plt.show()"
   ]
  },
  {
   "cell_type": "markdown",
   "metadata": {},
   "source": [
    "From the graph above, we would like to choose $k = 9$, as the k-NN model has the smallest classification error rate."
   ]
  },
  {
   "cell_type": "code",
   "execution_count": 13,
   "metadata": {},
   "outputs": [
    {
     "data": {
      "text/plain": [
       "0.8840579710144928"
      ]
     },
     "execution_count": 13,
     "metadata": {},
     "output_type": "execute_result"
    }
   ],
   "source": [
    "1 - classification_error(X_test, y_test, X_train, y_train, 9)"
   ]
  },
  {
   "cell_type": "markdown",
   "metadata": {},
   "source": [
    "The accuracy for k-NN model is similar to the logistic regression model and better than the MLP. Now let's perform k-NN by using Scikit-Learn."
   ]
  },
  {
   "cell_type": "code",
   "execution_count": 14,
   "metadata": {},
   "outputs": [
    {
     "data": {
      "text/plain": [
       "0.8840579710144928"
      ]
     },
     "execution_count": 14,
     "metadata": {},
     "output_type": "execute_result"
    }
   ],
   "source": [
    "## try using Scikit-Learn\n",
    "from sklearn.neighbors import KNeighborsClassifier\n",
    "from sklearn.metrics import confusion_matrix\n",
    "from sklearn.metrics import classification_report\n",
    "\n",
    "# Instantiate a KNN classifier \n",
    "clf = KNeighborsClassifier(n_neighbors = 9)\n",
    "\n",
    "# fit the KNN model \n",
    "clf.fit(X_train, y_train)\n",
    "\n",
    "# Calculate the accuracy\n",
    "clf.score(X_test, y_test)"
   ]
  },
  {
   "cell_type": "code",
   "execution_count": 15,
   "metadata": {},
   "outputs": [
    {
     "name": "stdout",
     "output_type": "stream",
     "text": [
      "cf_matrix = [[ 96  16]\n",
      " [ 16 148]] \n",
      "\n"
     ]
    },
    {
     "data": {
      "image/png": "[encoded data removed]",
      "text/plain": [
       "<Figure size 720x576 with 1 Axes>"
      ]
     },
     "metadata": {},
     "output_type": "display_data"
    }
   ],
   "source": [
    "# Make predictions on testing data\n",
    "y_pred = clf.predict(X_test)\n",
    "\n",
    "# Calculate the confusion matrix\n",
    "cf_matrix = confusion_matrix(y_test, y_pred)\n",
    "\n",
    "# Print the confusion matrix \n",
    "print(f\"cf_matrix = {cf_matrix} \\n\")\n",
    "\n",
    "# View the confusion matrix using the seaborn package\n",
    "plt.figure(figsize = (10, 8))\n",
    "ax = sns.heatmap(cf_matrix, annot=True, cmap='Blues', cbar=False)\n",
    "\n",
    "ax.set_title('Seaborn Confusion Matrix with labels\\n\\n');\n",
    "ax.set_xlabel('\\nPredicted Values')\n",
    "ax.set_ylabel('Actual Values ');\n",
    "\n",
    "## Ticket labels - List must be in alphabetical order\n",
    "ax.xaxis.set_ticklabels(['False','True'])\n",
    "ax.yaxis.set_ticklabels(['False','True'])\n",
    "plt.show()"
   ]
  },
  {
   "cell_type": "code",
   "execution_count": 16,
   "metadata": {},
   "outputs": [
    {
     "name": "stdout",
     "output_type": "stream",
     "text": [
      "              precision    recall  f1-score   support\n",
      "\n",
      "           0       0.86      0.86      0.86       112\n",
      "           1       0.90      0.90      0.90       164\n",
      "\n",
      "    accuracy                           0.88       276\n",
      "   macro avg       0.88      0.88      0.88       276\n",
      "weighted avg       0.88      0.88      0.88       276\n",
      "\n"
     ]
    }
   ],
   "source": [
    "#Checking performance our model with classification report.\n",
    "print(classification_report(y_test, y_pred))"
   ]
  },
  {
   "cell_type": "markdown",
   "metadata": {},
   "source": [
    "From the result above, we can see that the k-Nearest Neighbors model performs well on the CVDs dataset. The performance of k-NN is very similar to the logistic regression model, a little bit better than the MLP, and better than the single neuron perceptron model."
   ]
  },
  {
   "cell_type": "markdown",
   "metadata": {},
   "source": [
    "---\n",
    "\n",
    "## k-NN Regression\n",
    "\n",
    "In this part, we will apply k-NN regression on diabetes dataset from scikit-learn. First, let's look at the diabetes data."
   ]
  },
  {
   "cell_type": "code",
   "execution_count": 17,
   "metadata": {},
   "outputs": [
    {
     "data": {
      "text/html": [
       "<div>\n",
       "<style scoped>\n",
       "    .dataframe tbody tr th:only-of-type {\n",
       "        vertical-align: middle;\n",
       "    }\n",
       "\n",
       "    .dataframe tbody tr th {\n",
       "        vertical-align: top;\n",
       "    }\n",
       "\n",
       "    .dataframe thead th {\n",
       "        text-align: right;\n",
       "    }\n",
       "</style>\n",
       "<table border=\"1\" class=\"dataframe\">\n",
       "  <thead>\n",
       "    <tr style=\"text-align: right;\">\n",
       "      <th></th>\n",
       "      <th>age</th>\n",
       "      <th>sex</th>\n",
       "      <th>bmi</th>\n",
       "      <th>bp</th>\n",
       "      <th>tc</th>\n",
       "      <th>ldl</th>\n",
       "      <th>hdl</th>\n",
       "      <th>tch</th>\n",
       "      <th>ltg</th>\n",
       "      <th>glu</th>\n",
       "      <th>target</th>\n",
       "    </tr>\n",
       "  </thead>\n",
       "  <tbody>\n",
       "    <tr>\n",
       "      <th>0</th>\n",
       "      <td>0.038076</td>\n",
       "      <td>0.050680</td>\n",
       "      <td>0.061696</td>\n",
       "      <td>0.021872</td>\n",
       "      <td>-0.044223</td>\n",
       "      <td>-0.034821</td>\n",
       "      <td>-0.043401</td>\n",
       "      <td>-0.002592</td>\n",
       "      <td>0.019908</td>\n",
       "      <td>-0.017646</td>\n",
       "      <td>151.0</td>\n",
       "    </tr>\n",
       "    <tr>\n",
       "      <th>1</th>\n",
       "      <td>-0.001882</td>\n",
       "      <td>-0.044642</td>\n",
       "      <td>-0.051474</td>\n",
       "      <td>-0.026328</td>\n",
       "      <td>-0.008449</td>\n",
       "      <td>-0.019163</td>\n",
       "      <td>0.074412</td>\n",
       "      <td>-0.039493</td>\n",
       "      <td>-0.068330</td>\n",
       "      <td>-0.092204</td>\n",
       "      <td>75.0</td>\n",
       "    </tr>\n",
       "    <tr>\n",
       "      <th>2</th>\n",
       "      <td>0.085299</td>\n",
       "      <td>0.050680</td>\n",
       "      <td>0.044451</td>\n",
       "      <td>-0.005671</td>\n",
       "      <td>-0.045599</td>\n",
       "      <td>-0.034194</td>\n",
       "      <td>-0.032356</td>\n",
       "      <td>-0.002592</td>\n",
       "      <td>0.002864</td>\n",
       "      <td>-0.025930</td>\n",
       "      <td>141.0</td>\n",
       "    </tr>\n",
       "    <tr>\n",
       "      <th>3</th>\n",
       "      <td>-0.089063</td>\n",
       "      <td>-0.044642</td>\n",
       "      <td>-0.011595</td>\n",
       "      <td>-0.036656</td>\n",
       "      <td>0.012191</td>\n",
       "      <td>0.024991</td>\n",
       "      <td>-0.036038</td>\n",
       "      <td>0.034309</td>\n",
       "      <td>0.022692</td>\n",
       "      <td>-0.009362</td>\n",
       "      <td>206.0</td>\n",
       "    </tr>\n",
       "    <tr>\n",
       "      <th>4</th>\n",
       "      <td>0.005383</td>\n",
       "      <td>-0.044642</td>\n",
       "      <td>-0.036385</td>\n",
       "      <td>0.021872</td>\n",
       "      <td>0.003935</td>\n",
       "      <td>0.015596</td>\n",
       "      <td>0.008142</td>\n",
       "      <td>-0.002592</td>\n",
       "      <td>-0.031991</td>\n",
       "      <td>-0.046641</td>\n",
       "      <td>135.0</td>\n",
       "    </tr>\n",
       "  </tbody>\n",
       "</table>\n",
       "</div>"
      ],
      "text/plain": [
       "        age       sex       bmi        bp        tc       ldl       hdl  \\\n",
       "0  0.038076  0.050680  0.061696  0.021872 -0.044223 -0.034821 -0.043401   \n",
       "1 -0.001882 -0.044642 -0.051474 -0.026328 -0.008449 -0.019163  0.074412   \n",
       "2  0.085299  0.050680  0.044451 -0.005671 -0.045599 -0.034194 -0.032356   \n",
       "3 -0.089063 -0.044642 -0.011595 -0.036656  0.012191  0.024991 -0.036038   \n",
       "4  0.005383 -0.044642 -0.036385  0.021872  0.003935  0.015596  0.008142   \n",
       "\n",
       "        tch       ltg       glu  target  \n",
       "0 -0.002592  0.019908 -0.017646   151.0  \n",
       "1 -0.039493 -0.068330 -0.092204    75.0  \n",
       "2 -0.002592  0.002864 -0.025930   141.0  \n",
       "3  0.034309  0.022692 -0.009362   206.0  \n",
       "4 -0.002592 -0.031991 -0.046641   135.0  "
      ]
     },
     "execution_count": 17,
     "metadata": {},
     "output_type": "execute_result"
    }
   ],
   "source": [
    "from sklearn.datasets import load_diabetes\n",
    "diabetes = load_diabetes()\n",
    "df = pd.DataFrame(diabetes.data,columns = ['age', 'sex', 'bmi', 'bp', 'tc', 'ldl', 'hdl', 'tch', 'ltg', 'glu'])\n",
    "df['target'] = diabetes.target\n",
    "df.head()"
   ]
  },
  {
   "cell_type": "code",
   "execution_count": 18,
   "metadata": {},
   "outputs": [
    {
     "name": "stdout",
     "output_type": "stream",
     "text": [
      "np.shape(df) = (442, 11) \n",
      "\n",
      "age       0\n",
      "sex       0\n",
      "bmi       0\n",
      "bp        0\n",
      "tc        0\n",
      "ldl       0\n",
      "hdl       0\n",
      "tch       0\n",
      "ltg       0\n",
      "glu       0\n",
      "target    0\n",
      "dtype: int64\n"
     ]
    }
   ],
   "source": [
    "print(f'np.shape(df) = {np.shape(df)} \\n')\n",
    "missing_cnt = df.isnull().sum()\n",
    "print(missing_cnt)"
   ]
  },
  {
   "cell_type": "markdown",
   "metadata": {},
   "source": [
    "The dimension of diabetes data set is (442, 12). There is no missing value in the diabetes data. Next we will split the data into training set and testing set."
   ]
  },
  {
   "cell_type": "code",
   "execution_count": 19,
   "metadata": {},
   "outputs": [],
   "source": [
    "X = df.drop('target',axis=1).to_numpy()     # the response variables\n",
    "y = df.target.to_numpy()                    # the exploratory variable\n",
    "\n",
    "# scale the data\n",
    "X_scaled = preprocessing.scale(X)\n",
    "y_scaled = preprocessing.scale(y)\n",
    "\n",
    "# Create a training set and a testing set\n",
    "X_train, X_test, y_train, y_test = train_test_split(X_scaled, y_scaled, test_size=0.30, random_state=42)"
   ]
  },
  {
   "cell_type": "markdown",
   "metadata": {},
   "source": [
    "Rather than regress on all the response varaibles, we first do the k-NN regression on the first 4 variables. The k we chose is 5."
   ]
  },
  {
   "cell_type": "code",
   "execution_count": 20,
   "metadata": {},
   "outputs": [],
   "source": [
    "y_pred = [KNN_Predict(point, X_train[:,:4], y_train, 5, regression=True) for point in X_test[:,:4]]"
   ]
  },
  {
   "cell_type": "code",
   "execution_count": 21,
   "metadata": {},
   "outputs": [
    {
     "name": "stdout",
     "output_type": "stream",
     "text": [
      "MSE = 0.6474391097366122\n",
      "R^2 = 0.289\n"
     ]
    }
   ],
   "source": [
    "from sklearn.metrics import mean_squared_error, r2_score\n",
    "\n",
    "print(f\"MSE = {mean_squared_error(y_test, y_pred)}\")\n",
    "print(f\"R^2 = {round(r2_score(y_test, y_pred), 3)}\")"
   ]
  },
  {
   "cell_type": "markdown",
   "metadata": {},
   "source": [
    "The $R^2$ value is very low, meaning that the data does not fit the regression model well. Now let's try regressing on all the attributes. "
   ]
  },
  {
   "cell_type": "code",
   "execution_count": 22,
   "metadata": {},
   "outputs": [
    {
     "name": "stdout",
     "output_type": "stream",
     "text": [
      "MSE = 0.5433693825011081\n",
      "R^2 = 0.403\n"
     ]
    }
   ],
   "source": [
    "y_pred = [KNN_Predict(point, X_train, y_train, 5, regression=True) for point in X_test]\n",
    "print(f\"MSE = {mean_squared_error(y_test, y_pred)}\")\n",
    "print(f\"R^2 = {round(r2_score(y_test, y_pred), 3)}\")"
   ]
  },
  {
   "cell_type": "markdown",
   "metadata": {},
   "source": [
    "We can see that the MSE decreases and the $R^2$ increases. Now let's try to do some experiments with different $k$ values."
   ]
  },
  {
   "cell_type": "code",
   "execution_count": 23,
   "metadata": {},
   "outputs": [
    {
     "data": {
      "text/plain": [
       "Text(0.5, 1.0, 'adjusted $R^2$ for different k')"
      ]
     },
     "execution_count": 23,
     "metadata": {},
     "output_type": "execute_result"
    },
    {
     "data": {
      "image/png": "[encoded data removed]",
      "text/plain": [
       "<Figure size 1080x576 with 2 Axes>"
      ]
     },
     "metadata": {},
     "output_type": "display_data"
    }
   ],
   "source": [
    "possible_k = [x for x in range(3, 26, 2)]\n",
    "MSE = []\n",
    "R2 = []\n",
    "for k in possible_k:\n",
    "    y_pred = [KNN_Predict(point, X_train, y_train, k, regression=True) for point in X_test]\n",
    "    mse = mean_squared_error(y_test, y_pred)\n",
    "    MSE.append(mse)\n",
    "    r2 = round(r2_score(y_test, y_pred), 3)\n",
    "    R2.append(r2)\n",
    "\n",
    "fig, (ax1, ax2) = plt.subplots(1, 2, figsize=(15,8))\n",
    "\n",
    "ax1.scatter(possible_k, MSE, color = \"red\")\n",
    "ax1.plot(possible_k, MSE, color = 'red')\n",
    "ax1.set_xlabel(\"k\", fontsize = 14)\n",
    "ax1.set_ylabel(\"MSE\", fontsize = 14)\n",
    "ax1.set_title('MSE for different k', fontsize = 20)\n",
    "\n",
    "ax2.scatter(possible_k, R2, color = \"blue\")\n",
    "ax2.plot(possible_k, R2, color = 'blue')\n",
    "ax2.set_xlabel(\"k\", fontsize = 14)\n",
    "ax2.set_ylabel(\"$R^2$\", fontsize = 14)\n",
    "ax2.set_title('adjusted $R^2$ for different k', fontsize = 20)"
   ]
  },
  {
   "cell_type": "markdown",
   "metadata": {},
   "source": [
    "By increasing the $k$ value, the MSE decreases and the $R^2$ increases. However the maximum value of adjusted $R^2$ for different k values is no more than 0.50. Therefore, in this case, k-NN is not an ideal model to do the regression. "
   ]
  },
  {
   "cell_type": "markdown",
   "metadata": {},
   "source": []
  }
 ],
 "metadata": {
  "interpreter": {
   "hash": "c6e3de3013aa64c987b0d0ea220a933b22b0d06ac8866ebafdf417a10062e273"
  },
  "kernelspec": {
   "display_name": "Python 3.9.7 ('base')",
   "language": "python",
   "name": "python3"
  },
  "language_info": {
   "codemirror_mode": {
    "name": "ipython",
    "version": 3
   },
   "file_extension": ".py",
   "mimetype": "text/x-python",
   "name": "python",
   "nbconvert_exporter": "python",
   "pygments_lexer": "ipython3",
   "version": "3.9.7"
  },
  "orig_nbformat": 4
 },
 "nbformat": 4,
 "nbformat_minor": 2
}
