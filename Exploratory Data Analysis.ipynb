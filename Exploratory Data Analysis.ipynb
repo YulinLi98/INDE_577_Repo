{
 "cells": [
  {
   "cell_type": "markdown",
   "metadata": {},
   "source": [
    "# Exploratory Data Analysis on 2020 CDC Heart Disease Data\n",
    "\n",
    "Before diving into machine learning part on this data set, we first do some exploratory data analysis to gain some understanding of the data. \n",
    "\n",
    "Originally, the dataset comes from the CDC and is a major part of the Behavioral Risk Factor Surveillance System (BRFSS), which conducts annual telephone surveys to gather data on the health status of U.S. residents.The most recent dataset (as of February 15, 2022) includes data from 2020. It consists of 401,958 rows and 279 columns. The vast majority of columns are key indicators of heart disease, such as obesity (high BMI), diabetic status, drinking too much alcohol, etc.\n"
   ]
  }
 ],
 "metadata": {
  "language_info": {
   "name": "python"
  },
  "orig_nbformat": 4
 },
 "nbformat": 4,
 "nbformat_minor": 2
}
